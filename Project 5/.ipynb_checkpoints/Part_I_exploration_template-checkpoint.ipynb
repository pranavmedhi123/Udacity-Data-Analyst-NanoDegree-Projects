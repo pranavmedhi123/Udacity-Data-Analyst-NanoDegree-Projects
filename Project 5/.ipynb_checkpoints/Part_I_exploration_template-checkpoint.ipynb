{
 "cells": [
  {
   "cell_type": "markdown",
   "metadata": {},
   "source": [
    "# Part I - (Dataset Exploration of Prosper Loan Data)\n",
    "## by Pranav Naresh Medhi\n",
    "\n",
    "## Introduction\n",
    "> Prosper Loan Data is a dataset that contains information about 113,937 loans with 81 variables on each loan, including loan amount, borrower rate (or interest rate), current loan status, borrower income, and various other variables, this is one of the most varied dataset I found which contains information on topics that are closely related as well as not so much, it can be used for studying tons of trends in the loan business, which is one of the reasons why I picked this dataset.\n",
    "\n",
    "\n",
    "## Preliminary Wrangling\n"
   ]
  },
  {
   "cell_type": "code",
   "execution_count": 1,
   "metadata": {},
   "outputs": [],
   "source": [
    "# import all packages and set plots to be embedded inline\n",
    "import numpy as np\n",
    "import pandas as pd\n",
    "import matplotlib.pyplot as plt\n",
    "import seaborn as sb\n",
    "\n",
    "%matplotlib inline"
   ]
  },
  {
   "cell_type": "code",
   "execution_count": 2,
   "metadata": {},
   "outputs": [],
   "source": [
    "import warnings\n",
    "\n",
    "warnings.filterwarnings('ignore')"
   ]
  },
  {
   "cell_type": "markdown",
   "metadata": {},
   "source": [
    "> Load in your dataset and describe its properties through the questions below. Try and motivate your exploration goals through this section.\n"
   ]
  },
  {
   "cell_type": "code",
   "execution_count": 3,
   "metadata": {},
   "outputs": [],
   "source": [
    "# Loading the dataset\n",
    "df=pd.read_csv('prosperLoanData.csv')"
   ]
  },
  {
   "cell_type": "code",
   "execution_count": 4,
   "metadata": {},
   "outputs": [
    {
     "data": {
      "text/html": [
       "<div>\n",
       "<style scoped>\n",
       "    .dataframe tbody tr th:only-of-type {\n",
       "        vertical-align: middle;\n",
       "    }\n",
       "\n",
       "    .dataframe tbody tr th {\n",
       "        vertical-align: top;\n",
       "    }\n",
       "\n",
       "    .dataframe thead th {\n",
       "        text-align: right;\n",
       "    }\n",
       "</style>\n",
       "<table border=\"1\" class=\"dataframe\">\n",
       "  <thead>\n",
       "    <tr style=\"text-align: right;\">\n",
       "      <th></th>\n",
       "      <th>ListingKey</th>\n",
       "      <th>ListingNumber</th>\n",
       "      <th>ListingCreationDate</th>\n",
       "      <th>CreditGrade</th>\n",
       "      <th>Term</th>\n",
       "      <th>LoanStatus</th>\n",
       "      <th>ClosedDate</th>\n",
       "      <th>BorrowerAPR</th>\n",
       "      <th>BorrowerRate</th>\n",
       "      <th>LenderYield</th>\n",
       "      <th>...</th>\n",
       "      <th>LP_ServiceFees</th>\n",
       "      <th>LP_CollectionFees</th>\n",
       "      <th>LP_GrossPrincipalLoss</th>\n",
       "      <th>LP_NetPrincipalLoss</th>\n",
       "      <th>LP_NonPrincipalRecoverypayments</th>\n",
       "      <th>PercentFunded</th>\n",
       "      <th>Recommendations</th>\n",
       "      <th>InvestmentFromFriendsCount</th>\n",
       "      <th>InvestmentFromFriendsAmount</th>\n",
       "      <th>Investors</th>\n",
       "    </tr>\n",
       "  </thead>\n",
       "  <tbody>\n",
       "    <tr>\n",
       "      <th>0</th>\n",
       "      <td>1021339766868145413AB3B</td>\n",
       "      <td>193129</td>\n",
       "      <td>2007-08-26 19:09:29.263000000</td>\n",
       "      <td>C</td>\n",
       "      <td>36</td>\n",
       "      <td>Completed</td>\n",
       "      <td>2009-08-14 00:00:00</td>\n",
       "      <td>0.16516</td>\n",
       "      <td>0.1580</td>\n",
       "      <td>0.1380</td>\n",
       "      <td>...</td>\n",
       "      <td>-133.18</td>\n",
       "      <td>0.0</td>\n",
       "      <td>0.0</td>\n",
       "      <td>0.0</td>\n",
       "      <td>0.0</td>\n",
       "      <td>1.0</td>\n",
       "      <td>0</td>\n",
       "      <td>0</td>\n",
       "      <td>0.0</td>\n",
       "      <td>258</td>\n",
       "    </tr>\n",
       "    <tr>\n",
       "      <th>1</th>\n",
       "      <td>10273602499503308B223C1</td>\n",
       "      <td>1209647</td>\n",
       "      <td>2014-02-27 08:28:07.900000000</td>\n",
       "      <td>NaN</td>\n",
       "      <td>36</td>\n",
       "      <td>Current</td>\n",
       "      <td>NaN</td>\n",
       "      <td>0.12016</td>\n",
       "      <td>0.0920</td>\n",
       "      <td>0.0820</td>\n",
       "      <td>...</td>\n",
       "      <td>0.00</td>\n",
       "      <td>0.0</td>\n",
       "      <td>0.0</td>\n",
       "      <td>0.0</td>\n",
       "      <td>0.0</td>\n",
       "      <td>1.0</td>\n",
       "      <td>0</td>\n",
       "      <td>0</td>\n",
       "      <td>0.0</td>\n",
       "      <td>1</td>\n",
       "    </tr>\n",
       "    <tr>\n",
       "      <th>2</th>\n",
       "      <td>0EE9337825851032864889A</td>\n",
       "      <td>81716</td>\n",
       "      <td>2007-01-05 15:00:47.090000000</td>\n",
       "      <td>HR</td>\n",
       "      <td>36</td>\n",
       "      <td>Completed</td>\n",
       "      <td>2009-12-17 00:00:00</td>\n",
       "      <td>0.28269</td>\n",
       "      <td>0.2750</td>\n",
       "      <td>0.2400</td>\n",
       "      <td>...</td>\n",
       "      <td>-24.20</td>\n",
       "      <td>0.0</td>\n",
       "      <td>0.0</td>\n",
       "      <td>0.0</td>\n",
       "      <td>0.0</td>\n",
       "      <td>1.0</td>\n",
       "      <td>0</td>\n",
       "      <td>0</td>\n",
       "      <td>0.0</td>\n",
       "      <td>41</td>\n",
       "    </tr>\n",
       "    <tr>\n",
       "      <th>3</th>\n",
       "      <td>0EF5356002482715299901A</td>\n",
       "      <td>658116</td>\n",
       "      <td>2012-10-22 11:02:35.010000000</td>\n",
       "      <td>NaN</td>\n",
       "      <td>36</td>\n",
       "      <td>Current</td>\n",
       "      <td>NaN</td>\n",
       "      <td>0.12528</td>\n",
       "      <td>0.0974</td>\n",
       "      <td>0.0874</td>\n",
       "      <td>...</td>\n",
       "      <td>-108.01</td>\n",
       "      <td>0.0</td>\n",
       "      <td>0.0</td>\n",
       "      <td>0.0</td>\n",
       "      <td>0.0</td>\n",
       "      <td>1.0</td>\n",
       "      <td>0</td>\n",
       "      <td>0</td>\n",
       "      <td>0.0</td>\n",
       "      <td>158</td>\n",
       "    </tr>\n",
       "    <tr>\n",
       "      <th>4</th>\n",
       "      <td>0F023589499656230C5E3E2</td>\n",
       "      <td>909464</td>\n",
       "      <td>2013-09-14 18:38:39.097000000</td>\n",
       "      <td>NaN</td>\n",
       "      <td>36</td>\n",
       "      <td>Current</td>\n",
       "      <td>NaN</td>\n",
       "      <td>0.24614</td>\n",
       "      <td>0.2085</td>\n",
       "      <td>0.1985</td>\n",
       "      <td>...</td>\n",
       "      <td>-60.27</td>\n",
       "      <td>0.0</td>\n",
       "      <td>0.0</td>\n",
       "      <td>0.0</td>\n",
       "      <td>0.0</td>\n",
       "      <td>1.0</td>\n",
       "      <td>0</td>\n",
       "      <td>0</td>\n",
       "      <td>0.0</td>\n",
       "      <td>20</td>\n",
       "    </tr>\n",
       "  </tbody>\n",
       "</table>\n",
       "<p>5 rows × 81 columns</p>\n",
       "</div>"
      ],
      "text/plain": [
       "                ListingKey  ListingNumber            ListingCreationDate  \\\n",
       "0  1021339766868145413AB3B         193129  2007-08-26 19:09:29.263000000   \n",
       "1  10273602499503308B223C1        1209647  2014-02-27 08:28:07.900000000   \n",
       "2  0EE9337825851032864889A          81716  2007-01-05 15:00:47.090000000   \n",
       "3  0EF5356002482715299901A         658116  2012-10-22 11:02:35.010000000   \n",
       "4  0F023589499656230C5E3E2         909464  2013-09-14 18:38:39.097000000   \n",
       "\n",
       "  CreditGrade  Term LoanStatus           ClosedDate  BorrowerAPR  \\\n",
       "0           C    36  Completed  2009-08-14 00:00:00      0.16516   \n",
       "1         NaN    36    Current                  NaN      0.12016   \n",
       "2          HR    36  Completed  2009-12-17 00:00:00      0.28269   \n",
       "3         NaN    36    Current                  NaN      0.12528   \n",
       "4         NaN    36    Current                  NaN      0.24614   \n",
       "\n",
       "   BorrowerRate  LenderYield  ...  LP_ServiceFees  LP_CollectionFees  \\\n",
       "0        0.1580       0.1380  ...         -133.18                0.0   \n",
       "1        0.0920       0.0820  ...            0.00                0.0   \n",
       "2        0.2750       0.2400  ...          -24.20                0.0   \n",
       "3        0.0974       0.0874  ...         -108.01                0.0   \n",
       "4        0.2085       0.1985  ...          -60.27                0.0   \n",
       "\n",
       "   LP_GrossPrincipalLoss  LP_NetPrincipalLoss LP_NonPrincipalRecoverypayments  \\\n",
       "0                    0.0                  0.0                             0.0   \n",
       "1                    0.0                  0.0                             0.0   \n",
       "2                    0.0                  0.0                             0.0   \n",
       "3                    0.0                  0.0                             0.0   \n",
       "4                    0.0                  0.0                             0.0   \n",
       "\n",
       "   PercentFunded  Recommendations InvestmentFromFriendsCount  \\\n",
       "0            1.0                0                          0   \n",
       "1            1.0                0                          0   \n",
       "2            1.0                0                          0   \n",
       "3            1.0                0                          0   \n",
       "4            1.0                0                          0   \n",
       "\n",
       "  InvestmentFromFriendsAmount Investors  \n",
       "0                         0.0       258  \n",
       "1                         0.0         1  \n",
       "2                         0.0        41  \n",
       "3                         0.0       158  \n",
       "4                         0.0        20  \n",
       "\n",
       "[5 rows x 81 columns]"
      ]
     },
     "execution_count": 4,
     "metadata": {},
     "output_type": "execute_result"
    }
   ],
   "source": [
    "df.head()"
   ]
  },
  {
   "cell_type": "code",
   "execution_count": 5,
   "metadata": {},
   "outputs": [
    {
     "name": "stdout",
     "output_type": "stream",
     "text": [
      "(113937, 81)\n",
      "ListingKey                      object\n",
      "ListingNumber                    int64\n",
      "ListingCreationDate             object\n",
      "CreditGrade                     object\n",
      "Term                             int64\n",
      "                                ...   \n",
      "PercentFunded                  float64\n",
      "Recommendations                  int64\n",
      "InvestmentFromFriendsCount       int64\n",
      "InvestmentFromFriendsAmount    float64\n",
      "Investors                        int64\n",
      "Length: 81, dtype: object\n"
     ]
    }
   ],
   "source": [
    "print(df.shape)\n",
    "print(df.dtypes)"
   ]
  },
  {
   "cell_type": "code",
   "execution_count": 6,
   "metadata": {},
   "outputs": [
    {
     "name": "stdout",
     "output_type": "stream",
     "text": [
      "<class 'pandas.core.frame.DataFrame'>\n",
      "RangeIndex: 113937 entries, 0 to 113936\n",
      "Data columns (total 81 columns):\n",
      " #   Column                               Non-Null Count   Dtype  \n",
      "---  ------                               --------------   -----  \n",
      " 0   ListingKey                           113937 non-null  object \n",
      " 1   ListingNumber                        113937 non-null  int64  \n",
      " 2   ListingCreationDate                  113937 non-null  object \n",
      " 3   CreditGrade                          28953 non-null   object \n",
      " 4   Term                                 113937 non-null  int64  \n",
      " 5   LoanStatus                           113937 non-null  object \n",
      " 6   ClosedDate                           55089 non-null   object \n",
      " 7   BorrowerAPR                          113912 non-null  float64\n",
      " 8   BorrowerRate                         113937 non-null  float64\n",
      " 9   LenderYield                          113937 non-null  float64\n",
      " 10  EstimatedEffectiveYield              84853 non-null   float64\n",
      " 11  EstimatedLoss                        84853 non-null   float64\n",
      " 12  EstimatedReturn                      84853 non-null   float64\n",
      " 13  ProsperRating (numeric)              84853 non-null   float64\n",
      " 14  ProsperRating (Alpha)                84853 non-null   object \n",
      " 15  ProsperScore                         84853 non-null   float64\n",
      " 16  ListingCategory (numeric)            113937 non-null  int64  \n",
      " 17  BorrowerState                        108422 non-null  object \n",
      " 18  Occupation                           110349 non-null  object \n",
      " 19  EmploymentStatus                     111682 non-null  object \n",
      " 20  EmploymentStatusDuration             106312 non-null  float64\n",
      " 21  IsBorrowerHomeowner                  113937 non-null  bool   \n",
      " 22  CurrentlyInGroup                     113937 non-null  bool   \n",
      " 23  GroupKey                             13341 non-null   object \n",
      " 24  DateCreditPulled                     113937 non-null  object \n",
      " 25  CreditScoreRangeLower                113346 non-null  float64\n",
      " 26  CreditScoreRangeUpper                113346 non-null  float64\n",
      " 27  FirstRecordedCreditLine              113240 non-null  object \n",
      " 28  CurrentCreditLines                   106333 non-null  float64\n",
      " 29  OpenCreditLines                      106333 non-null  float64\n",
      " 30  TotalCreditLinespast7years           113240 non-null  float64\n",
      " 31  OpenRevolvingAccounts                113937 non-null  int64  \n",
      " 32  OpenRevolvingMonthlyPayment          113937 non-null  float64\n",
      " 33  InquiriesLast6Months                 113240 non-null  float64\n",
      " 34  TotalInquiries                       112778 non-null  float64\n",
      " 35  CurrentDelinquencies                 113240 non-null  float64\n",
      " 36  AmountDelinquent                     106315 non-null  float64\n",
      " 37  DelinquenciesLast7Years              112947 non-null  float64\n",
      " 38  PublicRecordsLast10Years             113240 non-null  float64\n",
      " 39  PublicRecordsLast12Months            106333 non-null  float64\n",
      " 40  RevolvingCreditBalance               106333 non-null  float64\n",
      " 41  BankcardUtilization                  106333 non-null  float64\n",
      " 42  AvailableBankcardCredit              106393 non-null  float64\n",
      " 43  TotalTrades                          106393 non-null  float64\n",
      " 44  TradesNeverDelinquent (percentage)   106393 non-null  float64\n",
      " 45  TradesOpenedLast6Months              106393 non-null  float64\n",
      " 46  DebtToIncomeRatio                    105383 non-null  float64\n",
      " 47  IncomeRange                          113937 non-null  object \n",
      " 48  IncomeVerifiable                     113937 non-null  bool   \n",
      " 49  StatedMonthlyIncome                  113937 non-null  float64\n",
      " 50  LoanKey                              113937 non-null  object \n",
      " 51  TotalProsperLoans                    22085 non-null   float64\n",
      " 52  TotalProsperPaymentsBilled           22085 non-null   float64\n",
      " 53  OnTimeProsperPayments                22085 non-null   float64\n",
      " 54  ProsperPaymentsLessThanOneMonthLate  22085 non-null   float64\n",
      " 55  ProsperPaymentsOneMonthPlusLate      22085 non-null   float64\n",
      " 56  ProsperPrincipalBorrowed             22085 non-null   float64\n",
      " 57  ProsperPrincipalOutstanding          22085 non-null   float64\n",
      " 58  ScorexChangeAtTimeOfListing          18928 non-null   float64\n",
      " 59  LoanCurrentDaysDelinquent            113937 non-null  int64  \n",
      " 60  LoanFirstDefaultedCycleNumber        16952 non-null   float64\n",
      " 61  LoanMonthsSinceOrigination           113937 non-null  int64  \n",
      " 62  LoanNumber                           113937 non-null  int64  \n",
      " 63  LoanOriginalAmount                   113937 non-null  int64  \n",
      " 64  LoanOriginationDate                  113937 non-null  object \n",
      " 65  LoanOriginationQuarter               113937 non-null  object \n",
      " 66  MemberKey                            113937 non-null  object \n",
      " 67  MonthlyLoanPayment                   113937 non-null  float64\n",
      " 68  LP_CustomerPayments                  113937 non-null  float64\n",
      " 69  LP_CustomerPrincipalPayments         113937 non-null  float64\n",
      " 70  LP_InterestandFees                   113937 non-null  float64\n",
      " 71  LP_ServiceFees                       113937 non-null  float64\n",
      " 72  LP_CollectionFees                    113937 non-null  float64\n",
      " 73  LP_GrossPrincipalLoss                113937 non-null  float64\n",
      " 74  LP_NetPrincipalLoss                  113937 non-null  float64\n",
      " 75  LP_NonPrincipalRecoverypayments      113937 non-null  float64\n",
      " 76  PercentFunded                        113937 non-null  float64\n",
      " 77  Recommendations                      113937 non-null  int64  \n",
      " 78  InvestmentFromFriendsCount           113937 non-null  int64  \n",
      " 79  InvestmentFromFriendsAmount          113937 non-null  float64\n",
      " 80  Investors                            113937 non-null  int64  \n",
      "dtypes: bool(3), float64(50), int64(11), object(17)\n",
      "memory usage: 68.1+ MB\n"
     ]
    }
   ],
   "source": [
    "df.info()"
   ]
  },
  {
   "cell_type": "code",
   "execution_count": 7,
   "metadata": {},
   "outputs": [],
   "source": [
    "# I will be including only the following columns for the exploration process, as it seems like they might or might not have an\n",
    "#effect on the Loan approval of any given individual\n",
    "\n",
    "cols_to_include=['Term','LoanStatus','EstimatedEffectiveYield','BorrowerAPR','BorrowerRate',\n",
    "                'ProsperRating (numeric)','ProsperRating (Alpha)','ProsperScore','DelinquenciesLast7Years'\n",
    "                ,'ListingCategory (numeric)','EmploymentStatus','Occupation','EmploymentStatusDuration'\n",
    "                ,'IsBorrowerHomeowner','StatedMonthlyIncome','IncomeVerifiable','Recommendations'\n",
    "                ,'DebtToIncomeRatio','LoanOriginalAmount','PercentFunded','IncomeRange','BorrowerState'\n",
    "                ,'Investors','CreditScoreRangeUpper','MonthlyLoanPayment']"
   ]
  },
  {
   "cell_type": "code",
   "execution_count": 8,
   "metadata": {},
   "outputs": [],
   "source": [
    "# Defining a new dataset with only the columns of interest\n",
    "new_df=df[cols_to_include]"
   ]
  },
  {
   "cell_type": "code",
   "execution_count": 9,
   "metadata": {},
   "outputs": [
    {
     "name": "stdout",
     "output_type": "stream",
     "text": [
      "<class 'pandas.core.frame.DataFrame'>\n",
      "RangeIndex: 113937 entries, 0 to 113936\n",
      "Data columns (total 25 columns):\n",
      " #   Column                     Non-Null Count   Dtype  \n",
      "---  ------                     --------------   -----  \n",
      " 0   Term                       113937 non-null  int64  \n",
      " 1   LoanStatus                 113937 non-null  object \n",
      " 2   EstimatedEffectiveYield    84853 non-null   float64\n",
      " 3   BorrowerAPR                113912 non-null  float64\n",
      " 4   BorrowerRate               113937 non-null  float64\n",
      " 5   ProsperRating (numeric)    84853 non-null   float64\n",
      " 6   ProsperRating (Alpha)      84853 non-null   object \n",
      " 7   ProsperScore               84853 non-null   float64\n",
      " 8   DelinquenciesLast7Years    112947 non-null  float64\n",
      " 9   ListingCategory (numeric)  113937 non-null  int64  \n",
      " 10  EmploymentStatus           111682 non-null  object \n",
      " 11  Occupation                 110349 non-null  object \n",
      " 12  EmploymentStatusDuration   106312 non-null  float64\n",
      " 13  IsBorrowerHomeowner        113937 non-null  bool   \n",
      " 14  StatedMonthlyIncome        113937 non-null  float64\n",
      " 15  IncomeVerifiable           113937 non-null  bool   \n",
      " 16  Recommendations            113937 non-null  int64  \n",
      " 17  DebtToIncomeRatio          105383 non-null  float64\n",
      " 18  LoanOriginalAmount         113937 non-null  int64  \n",
      " 19  PercentFunded              113937 non-null  float64\n",
      " 20  IncomeRange                113937 non-null  object \n",
      " 21  BorrowerState              108422 non-null  object \n",
      " 22  Investors                  113937 non-null  int64  \n",
      " 23  CreditScoreRangeUpper      113346 non-null  float64\n",
      " 24  MonthlyLoanPayment         113937 non-null  float64\n",
      "dtypes: bool(2), float64(12), int64(5), object(6)\n",
      "memory usage: 20.2+ MB\n"
     ]
    }
   ],
   "source": [
    "new_df.info()"
   ]
  },
  {
   "cell_type": "code",
   "execution_count": 10,
   "metadata": {},
   "outputs": [],
   "source": [
    "# We have some missing values in the columns we selected, I will be dropping any null valued columns\n",
    "new_df=new_df.dropna()"
   ]
  },
  {
   "cell_type": "code",
   "execution_count": 11,
   "metadata": {},
   "outputs": [
    {
     "name": "stdout",
     "output_type": "stream",
     "text": [
      "<class 'pandas.core.frame.DataFrame'>\n",
      "Int64Index: 76216 entries, 1 to 113936\n",
      "Data columns (total 25 columns):\n",
      " #   Column                     Non-Null Count  Dtype  \n",
      "---  ------                     --------------  -----  \n",
      " 0   Term                       76216 non-null  int64  \n",
      " 1   LoanStatus                 76216 non-null  object \n",
      " 2   EstimatedEffectiveYield    76216 non-null  float64\n",
      " 3   BorrowerAPR                76216 non-null  float64\n",
      " 4   BorrowerRate               76216 non-null  float64\n",
      " 5   ProsperRating (numeric)    76216 non-null  float64\n",
      " 6   ProsperRating (Alpha)      76216 non-null  object \n",
      " 7   ProsperScore               76216 non-null  float64\n",
      " 8   DelinquenciesLast7Years    76216 non-null  float64\n",
      " 9   ListingCategory (numeric)  76216 non-null  int64  \n",
      " 10  EmploymentStatus           76216 non-null  object \n",
      " 11  Occupation                 76216 non-null  object \n",
      " 12  EmploymentStatusDuration   76216 non-null  float64\n",
      " 13  IsBorrowerHomeowner        76216 non-null  bool   \n",
      " 14  StatedMonthlyIncome        76216 non-null  float64\n",
      " 15  IncomeVerifiable           76216 non-null  bool   \n",
      " 16  Recommendations            76216 non-null  int64  \n",
      " 17  DebtToIncomeRatio          76216 non-null  float64\n",
      " 18  LoanOriginalAmount         76216 non-null  int64  \n",
      " 19  PercentFunded              76216 non-null  float64\n",
      " 20  IncomeRange                76216 non-null  object \n",
      " 21  BorrowerState              76216 non-null  object \n",
      " 22  Investors                  76216 non-null  int64  \n",
      " 23  CreditScoreRangeUpper      76216 non-null  float64\n",
      " 24  MonthlyLoanPayment         76216 non-null  float64\n",
      "dtypes: bool(2), float64(12), int64(5), object(6)\n",
      "memory usage: 14.1+ MB\n"
     ]
    }
   ],
   "source": [
    "new_df.info()"
   ]
  },
  {
   "cell_type": "code",
   "execution_count": 12,
   "metadata": {},
   "outputs": [
    {
     "data": {
      "text/html": [
       "<div>\n",
       "<style scoped>\n",
       "    .dataframe tbody tr th:only-of-type {\n",
       "        vertical-align: middle;\n",
       "    }\n",
       "\n",
       "    .dataframe tbody tr th {\n",
       "        vertical-align: top;\n",
       "    }\n",
       "\n",
       "    .dataframe thead th {\n",
       "        text-align: right;\n",
       "    }\n",
       "</style>\n",
       "<table border=\"1\" class=\"dataframe\">\n",
       "  <thead>\n",
       "    <tr style=\"text-align: right;\">\n",
       "      <th></th>\n",
       "      <th>Term</th>\n",
       "      <th>LoanStatus</th>\n",
       "      <th>EstimatedEffectiveYield</th>\n",
       "      <th>BorrowerAPR</th>\n",
       "      <th>BorrowerRate</th>\n",
       "      <th>ProsperRating (numeric)</th>\n",
       "      <th>ProsperRating (Alpha)</th>\n",
       "      <th>ProsperScore</th>\n",
       "      <th>DelinquenciesLast7Years</th>\n",
       "      <th>ListingCategory (numeric)</th>\n",
       "      <th>...</th>\n",
       "      <th>IncomeVerifiable</th>\n",
       "      <th>Recommendations</th>\n",
       "      <th>DebtToIncomeRatio</th>\n",
       "      <th>LoanOriginalAmount</th>\n",
       "      <th>PercentFunded</th>\n",
       "      <th>IncomeRange</th>\n",
       "      <th>BorrowerState</th>\n",
       "      <th>Investors</th>\n",
       "      <th>CreditScoreRangeUpper</th>\n",
       "      <th>MonthlyLoanPayment</th>\n",
       "    </tr>\n",
       "  </thead>\n",
       "  <tbody>\n",
       "    <tr>\n",
       "      <th>1</th>\n",
       "      <td>36</td>\n",
       "      <td>Current</td>\n",
       "      <td>0.0796</td>\n",
       "      <td>0.12016</td>\n",
       "      <td>0.092</td>\n",
       "      <td>6.0</td>\n",
       "      <td>A</td>\n",
       "      <td>7.0</td>\n",
       "      <td>0.0</td>\n",
       "      <td>2</td>\n",
       "      <td>...</td>\n",
       "      <td>True</td>\n",
       "      <td>0</td>\n",
       "      <td>0.18</td>\n",
       "      <td>10000</td>\n",
       "      <td>1.0</td>\n",
       "      <td>$50,000-74,999</td>\n",
       "      <td>CO</td>\n",
       "      <td>1</td>\n",
       "      <td>699.0</td>\n",
       "      <td>318.93</td>\n",
       "    </tr>\n",
       "  </tbody>\n",
       "</table>\n",
       "<p>1 rows × 25 columns</p>\n",
       "</div>"
      ],
      "text/plain": [
       "   Term LoanStatus  EstimatedEffectiveYield  BorrowerAPR  BorrowerRate  \\\n",
       "1    36    Current                   0.0796      0.12016         0.092   \n",
       "\n",
       "   ProsperRating (numeric) ProsperRating (Alpha)  ProsperScore  \\\n",
       "1                      6.0                     A           7.0   \n",
       "\n",
       "   DelinquenciesLast7Years  ListingCategory (numeric)  ... IncomeVerifiable  \\\n",
       "1                      0.0                          2  ...             True   \n",
       "\n",
       "  Recommendations  DebtToIncomeRatio  LoanOriginalAmount  PercentFunded  \\\n",
       "1               0               0.18               10000            1.0   \n",
       "\n",
       "      IncomeRange  BorrowerState  Investors  CreditScoreRangeUpper  \\\n",
       "1  $50,000-74,999             CO          1                  699.0   \n",
       "\n",
       "   MonthlyLoanPayment  \n",
       "1              318.93  \n",
       "\n",
       "[1 rows x 25 columns]"
      ]
     },
     "execution_count": 12,
     "metadata": {},
     "output_type": "execute_result"
    }
   ],
   "source": [
    "new_df.head(1)"
   ]
  },
  {
   "cell_type": "code",
   "execution_count": 13,
   "metadata": {},
   "outputs": [
    {
     "data": {
      "text/plain": [
       "36    51919\n",
       "60    22883\n",
       "12     1414\n",
       "Name: Term, dtype: int64"
      ]
     },
     "execution_count": 13,
     "metadata": {},
     "output_type": "execute_result"
    }
   ],
   "source": [
    "# We should make Term categorical instead of keeping it int type as there are only limited number of possibilities\n",
    "new_df.Term.value_counts()"
   ]
  },
  {
   "cell_type": "code",
   "execution_count": 14,
   "metadata": {},
   "outputs": [],
   "source": [
    "new_df['Term'] = new_df['Term'].astype('category')"
   ]
  },
  {
   "cell_type": "code",
   "execution_count": 15,
   "metadata": {},
   "outputs": [],
   "source": [
    "#Cleaning some of the column names\n",
    "new_df.rename(columns={'ProsperRating (Alpha)': 'ProsperRating_alpha',\n",
    "                        'ProsperRating (numeric)': 'ProsperRating_numeric',\n",
    "                        'ListingCategory (numeric)' : 'ListingCategory_numeric',\n",
    "                      'EstimatedEffectiveYield':'Yield',\n",
    "                      'LoanOriginalAmount':'LoanAmount'}, \n",
    "               inplace=True)"
   ]
  },
  {
   "cell_type": "code",
   "execution_count": 16,
   "metadata": {},
   "outputs": [
    {
     "name": "stdout",
     "output_type": "stream",
     "text": [
      "<class 'pandas.core.frame.DataFrame'>\n",
      "Int64Index: 76216 entries, 1 to 113936\n",
      "Data columns (total 25 columns):\n",
      " #   Column                    Non-Null Count  Dtype   \n",
      "---  ------                    --------------  -----   \n",
      " 0   Term                      76216 non-null  category\n",
      " 1   LoanStatus                76216 non-null  object  \n",
      " 2   Yield                     76216 non-null  float64 \n",
      " 3   BorrowerAPR               76216 non-null  float64 \n",
      " 4   BorrowerRate              76216 non-null  float64 \n",
      " 5   ProsperRating_numeric     76216 non-null  float64 \n",
      " 6   ProsperRating_alpha       76216 non-null  object  \n",
      " 7   ProsperScore              76216 non-null  float64 \n",
      " 8   DelinquenciesLast7Years   76216 non-null  float64 \n",
      " 9   ListingCategory_numeric   76216 non-null  int64   \n",
      " 10  EmploymentStatus          76216 non-null  object  \n",
      " 11  Occupation                76216 non-null  object  \n",
      " 12  EmploymentStatusDuration  76216 non-null  float64 \n",
      " 13  IsBorrowerHomeowner       76216 non-null  bool    \n",
      " 14  StatedMonthlyIncome       76216 non-null  float64 \n",
      " 15  IncomeVerifiable          76216 non-null  bool    \n",
      " 16  Recommendations           76216 non-null  int64   \n",
      " 17  DebtToIncomeRatio         76216 non-null  float64 \n",
      " 18  LoanAmount                76216 non-null  int64   \n",
      " 19  PercentFunded             76216 non-null  float64 \n",
      " 20  IncomeRange               76216 non-null  object  \n",
      " 21  BorrowerState             76216 non-null  object  \n",
      " 22  Investors                 76216 non-null  int64   \n",
      " 23  CreditScoreRangeUpper     76216 non-null  float64 \n",
      " 24  MonthlyLoanPayment        76216 non-null  float64 \n",
      "dtypes: bool(2), category(1), float64(12), int64(4), object(6)\n",
      "memory usage: 13.6+ MB\n"
     ]
    }
   ],
   "source": [
    "new_df.info()"
   ]
  },
  {
   "cell_type": "code",
   "execution_count": 17,
   "metadata": {},
   "outputs": [
    {
     "data": {
      "text/html": [
       "<div>\n",
       "<style scoped>\n",
       "    .dataframe tbody tr th:only-of-type {\n",
       "        vertical-align: middle;\n",
       "    }\n",
       "\n",
       "    .dataframe tbody tr th {\n",
       "        vertical-align: top;\n",
       "    }\n",
       "\n",
       "    .dataframe thead th {\n",
       "        text-align: right;\n",
       "    }\n",
       "</style>\n",
       "<table border=\"1\" class=\"dataframe\">\n",
       "  <thead>\n",
       "    <tr style=\"text-align: right;\">\n",
       "      <th></th>\n",
       "      <th>Term</th>\n",
       "      <th>LoanStatus</th>\n",
       "      <th>Yield</th>\n",
       "      <th>BorrowerAPR</th>\n",
       "      <th>BorrowerRate</th>\n",
       "      <th>ProsperRating_numeric</th>\n",
       "      <th>ProsperRating_alpha</th>\n",
       "      <th>ProsperScore</th>\n",
       "      <th>DelinquenciesLast7Years</th>\n",
       "      <th>ListingCategory_numeric</th>\n",
       "      <th>...</th>\n",
       "      <th>IncomeVerifiable</th>\n",
       "      <th>Recommendations</th>\n",
       "      <th>DebtToIncomeRatio</th>\n",
       "      <th>LoanAmount</th>\n",
       "      <th>PercentFunded</th>\n",
       "      <th>IncomeRange</th>\n",
       "      <th>BorrowerState</th>\n",
       "      <th>Investors</th>\n",
       "      <th>CreditScoreRangeUpper</th>\n",
       "      <th>MonthlyLoanPayment</th>\n",
       "    </tr>\n",
       "  </thead>\n",
       "  <tbody>\n",
       "    <tr>\n",
       "      <th>1</th>\n",
       "      <td>36</td>\n",
       "      <td>Current</td>\n",
       "      <td>0.0796</td>\n",
       "      <td>0.12016</td>\n",
       "      <td>0.092</td>\n",
       "      <td>6.0</td>\n",
       "      <td>A</td>\n",
       "      <td>7.0</td>\n",
       "      <td>0.0</td>\n",
       "      <td>2</td>\n",
       "      <td>...</td>\n",
       "      <td>True</td>\n",
       "      <td>0</td>\n",
       "      <td>0.18</td>\n",
       "      <td>10000</td>\n",
       "      <td>1.0</td>\n",
       "      <td>$50,000-74,999</td>\n",
       "      <td>CO</td>\n",
       "      <td>1</td>\n",
       "      <td>699.0</td>\n",
       "      <td>318.93</td>\n",
       "    </tr>\n",
       "  </tbody>\n",
       "</table>\n",
       "<p>1 rows × 25 columns</p>\n",
       "</div>"
      ],
      "text/plain": [
       "  Term LoanStatus   Yield  BorrowerAPR  BorrowerRate  ProsperRating_numeric  \\\n",
       "1   36    Current  0.0796      0.12016         0.092                    6.0   \n",
       "\n",
       "  ProsperRating_alpha  ProsperScore  DelinquenciesLast7Years  \\\n",
       "1                   A           7.0                      0.0   \n",
       "\n",
       "   ListingCategory_numeric  ... IncomeVerifiable Recommendations  \\\n",
       "1                        2  ...             True               0   \n",
       "\n",
       "   DebtToIncomeRatio  LoanAmount  PercentFunded     IncomeRange  \\\n",
       "1               0.18       10000            1.0  $50,000-74,999   \n",
       "\n",
       "   BorrowerState  Investors  CreditScoreRangeUpper  MonthlyLoanPayment  \n",
       "1             CO          1                  699.0              318.93  \n",
       "\n",
       "[1 rows x 25 columns]"
      ]
     },
     "execution_count": 17,
     "metadata": {},
     "output_type": "execute_result"
    }
   ],
   "source": [
    "new_df.head(1)"
   ]
  },
  {
   "cell_type": "code",
   "execution_count": 18,
   "metadata": {},
   "outputs": [
    {
     "data": {
      "text/plain": [
       "$50,000-74,999    23692\n",
       "$25,000-49,999    21421\n",
       "$100,000+         13977\n",
       "$75,000-99,999    13547\n",
       "$1-24,999          3578\n",
       "Not employed          1\n",
       "Name: IncomeRange, dtype: int64"
      ]
     },
     "execution_count": 18,
     "metadata": {},
     "output_type": "execute_result"
    }
   ],
   "source": [
    "new_df.IncomeRange.value_counts()"
   ]
  },
  {
   "cell_type": "code",
   "execution_count": 19,
   "metadata": {},
   "outputs": [
    {
     "data": {
      "text/plain": [
       "0.0     53582\n",
       "1.0      2512\n",
       "3.0      2003\n",
       "2.0      1819\n",
       "4.0      1598\n",
       "        ...  \n",
       "79.0        2\n",
       "98.0        1\n",
       "96.0        1\n",
       "93.0        1\n",
       "97.0        1\n",
       "Name: DelinquenciesLast7Years, Length: 99, dtype: int64"
      ]
     },
     "execution_count": 19,
     "metadata": {},
     "output_type": "execute_result"
    }
   ],
   "source": [
    "new_df.DelinquenciesLast7Years.value_counts()"
   ]
  },
  {
   "cell_type": "code",
   "execution_count": 20,
   "metadata": {},
   "outputs": [
    {
     "data": {
      "text/plain": [
       "Current                   51170\n",
       "Completed                 17687\n",
       "Chargedoff                 4444\n",
       "Defaulted                   885\n",
       "Past Due (1-15 days)        714\n",
       "Past Due (31-60 days)       322\n",
       "Past Due (91-120 days)      277\n",
       "Past Due (61-90 days)       275\n",
       "Past Due (16-30 days)       241\n",
       "FinalPaymentInProgress      187\n",
       "Past Due (>120 days)         14\n",
       "Name: LoanStatus, dtype: int64"
      ]
     },
     "execution_count": 20,
     "metadata": {},
     "output_type": "execute_result"
    }
   ],
   "source": [
    "new_df.LoanStatus.value_counts()"
   ]
  },
  {
   "cell_type": "code",
   "execution_count": 21,
   "metadata": {},
   "outputs": [
    {
     "data": {
      "text/plain": [
       "C     16499\n",
       "B     14379\n",
       "A     13490\n",
       "D     12629\n",
       "E      8443\n",
       "HR     5680\n",
       "AA     5096\n",
       "Name: ProsperRating_alpha, dtype: int64"
      ]
     },
     "execution_count": 21,
     "metadata": {},
     "output_type": "execute_result"
    }
   ],
   "source": [
    "new_df.ProsperRating_alpha.value_counts()"
   ]
  },
  {
   "cell_type": "code",
   "execution_count": 22,
   "metadata": {},
   "outputs": [
    {
     "data": {
      "text/plain": [
       "699.0    16492\n",
       "679.0    16366\n",
       "719.0    15471\n",
       "739.0    12923\n",
       "659.0    12199\n",
       "759.0     9267\n",
       "779.0     6606\n",
       "799.0     4624\n",
       "639.0     4172\n",
       "619.0     3602\n",
       "819.0     2644\n",
       "539.0     1593\n",
       "559.0     1474\n",
       "839.0     1409\n",
       "579.0     1357\n",
       "599.0     1125\n",
       "859.0      567\n",
       "519.0      554\n",
       "499.0      346\n",
       "879.0      212\n",
       "479.0      141\n",
       "19.0       133\n",
       "459.0       36\n",
       "899.0       27\n",
       "439.0        5\n",
       "379.0        1\n",
       "Name: CreditScoreRangeUpper, dtype: int64"
      ]
     },
     "execution_count": 22,
     "metadata": {},
     "output_type": "execute_result"
    }
   ],
   "source": [
    "df.CreditScoreRangeUpper.value_counts()"
   ]
  },
  {
   "cell_type": "code",
   "execution_count": 23,
   "metadata": {},
   "outputs": [
    {
     "data": {
      "text/plain": [
       "True     41454\n",
       "False    34762\n",
       "Name: IsBorrowerHomeowner, dtype: int64"
      ]
     },
     "execution_count": 23,
     "metadata": {},
     "output_type": "execute_result"
    }
   ],
   "source": [
    "new_df.IsBorrowerHomeowner.value_counts()"
   ]
  },
  {
   "cell_type": "markdown",
   "metadata": {},
   "source": [
    "I have cleaned the above dataset such that there are no null values in the dataset, some of the datatypes have been altered, and I also renamed some of the columns to easier names."
   ]
  },
  {
   "cell_type": "markdown",
   "metadata": {},
   "source": [
    "### What is the structure of your dataset?\n",
    "\n",
    "> This data set contains 113,937 loans with 81 variables on each loan, including loan amount, borrower rate (or interest rate), current loan status, borrower income, and many others. I will be taking into consideration only about 15-20 variables as it is not required to look at the all the variables available for the purpose of this project. This is one of the most varied dataset I found which contains information on topics that are closely related as well as not so much, which was one of the reasons for picking this dataset as it gave me the freedom of choosing the variables I was more interested in.\n",
    "\n",
    "### What is/are the main feature(s) of interest in your dataset?\n",
    "\n",
    "> I would be focusing on the parameters that decide the approval of the loan , by identifying the relations between some of the column attributes in the dataset.\n",
    "\n",
    "### What features in the dataset do you think will help support your investigation into your feature(s) of interest?\n",
    "\n",
    "> I think the features in the dataset that could support my investigation would be Employmentstatus , Income, Isborrowerhomeowner, Prosper rating of the individual,DelinquenciesLast7Years, CreditScoreRangeUpper as it gives us more idea about the individuals assets."
   ]
  },
  {
   "cell_type": "markdown",
   "metadata": {},
   "source": [
    "## Univariate Exploration\n",
    "\n",
    "> In this section, investigate distributions of individual variables. If\n",
    "you see unusual points or outliers, take a deeper look to clean things up\n",
    "and prepare yourself to look at relationships between variables."
   ]
  },
  {
   "cell_type": "markdown",
   "metadata": {},
   "source": [
    "### Question\n",
    "How does the ProsperRating_alpha variable look like visually?"
   ]
  },
  {
   "cell_type": "markdown",
   "metadata": {},
   "source": [
    "### Visualisation"
   ]
  },
  {
   "cell_type": "code",
   "execution_count": 24,
   "metadata": {},
   "outputs": [
    {
     "data": {
      "text/plain": [
       "C     16499\n",
       "B     14379\n",
       "A     13490\n",
       "D     12629\n",
       "E      8443\n",
       "HR     5680\n",
       "AA     5096\n",
       "Name: ProsperRating_alpha, dtype: int64"
      ]
     },
     "execution_count": 24,
     "metadata": {},
     "output_type": "execute_result"
    }
   ],
   "source": [
    "new_df['ProsperRating_alpha'].value_counts()"
   ]
  },
  {
   "cell_type": "code",
   "execution_count": 25,
   "metadata": {},
   "outputs": [
    {
     "data": {
      "text/plain": [
       "<Figure size 720x360 with 0 Axes>"
      ]
     },
     "metadata": {},
     "output_type": "display_data"
    },
    {
     "data": {
      "image/png": "[encoded data removed]",
      "text/plain": [
       "<Figure size 720x360 with 1 Axes>"
      ]
     },
     "metadata": {
      "needs_background": "light"
     },
     "output_type": "display_data"
    }
   ],
   "source": [
    "plt.figure(figsize = [10, 5]) \n",
    "#ProsperRating Alpha is an Ordinal variable so we will be having to take care of the order, same for IncomeRange\n",
    "ProsperRating_Alpha_portions = ['AA','A', 'B', 'C', 'D', 'E', 'HR']\n",
    "IncomeRange_portions = ['$1-24,999', '$25,000-49,999', '$50,000-74,999', '$75,000-99,999', '$100,000+']\n",
    "pd_ver = pd.__version__.split(\".\")\n",
    "#compatibility setting\n",
    "if (int(pd_ver[0]) > 0) or (int(pd_ver[1]) >= 21): \n",
    "    vclasses = pd.api.types.CategoricalDtype(ordered = True, categories = ProsperRating_Alpha_portions)\n",
    "    new_df['ProsperRating_alpha'] = new_df['ProsperRating_alpha'].astype(vclasses)\n",
    "    vclasses_1 = pd.api.types.CategoricalDtype(ordered = True, categories = IncomeRange_portions)\n",
    "    new_df['IncomeRange'] = new_df['IncomeRange'].astype(vclasses_1)\n",
    "else: \n",
    "    new_df['ProsperRating_alpha'] = new_df['ProsperRating_alpha'].astype('category', ordered = True, categories = ProsperRating_Alpha_portions)\n",
    "    new_df['IncomeRange'] = new_df['IncomeRange'].astype('category', ordered = True, categories = IncomeRange_portions)\n",
    "\n",
    "plt.figure(figsize = [10, 5]) \n",
    "base_color = sb.color_palette()[0]\n",
    "sb.countplot(data = new_df, x = 'ProsperRating_alpha', color = base_color);"
   ]
  },
  {
   "cell_type": "markdown",
   "metadata": {},
   "source": [
    "### Observation\n",
    "We can see that Type C of the ProsperRating is the most common among the Applicants for loans while the AA Type having the least of the counts."
   ]
  },
  {
   "cell_type": "markdown",
   "metadata": {},
   "source": [
    "### Question\n",
    "Lets look at Loan Status of the borrowers"
   ]
  },
  {
   "cell_type": "markdown",
   "metadata": {},
   "source": [
    "### Visualisation"
   ]
  },
  {
   "cell_type": "code",
   "execution_count": 26,
   "metadata": {},
   "outputs": [
    {
     "data": {
      "image/png": "[encoded data removed]",
      "text/plain": [
       "<Figure size 720x360 with 1 Axes>"
      ]
     },
     "metadata": {
      "needs_background": "light"
     },
     "output_type": "display_data"
    }
   ],
   "source": [
    "# LoanStatus variable\n",
    "plt.figure(figsize = [10, 5]) \n",
    "base_color = sb.color_palette()[0]\n",
    "plt.title(\"LoanStatus of the Borrowers\")\n",
    "sb.countplot(data = new_df, y = 'LoanStatus', color = base_color,\n",
    "             order = new_df['LoanStatus'].value_counts().index);"
   ]
  },
  {
   "cell_type": "markdown",
   "metadata": {},
   "source": [
    "### Observation\n",
    "A huge majority of the Borrowers are in the Current Bracket for Loanstatus. Looks like Completed and Chargedoff are the next in line , while Nearly no borrowers in the Past Due(>120 days) bracket."
   ]
  },
  {
   "cell_type": "markdown",
   "metadata": {},
   "source": [
    "### Question\n",
    "\n",
    "Lets have a look at the Top 5 most popular states from which borrowers are located in "
   ]
  },
  {
   "cell_type": "markdown",
   "metadata": {},
   "source": [
    "### Visualisation"
   ]
  },
  {
   "cell_type": "code",
   "execution_count": 27,
   "metadata": {},
   "outputs": [
    {
     "data": {
      "text/plain": [
       "CA    9574\n",
       "NY    5184\n",
       "TX    5086\n",
       "FL    4738\n",
       "IL    3871\n",
       "OH    3061\n",
       "GA    3006\n",
       "VA    2530\n",
       "NJ    2463\n",
       "PA    2416\n",
       "MI    2349\n",
       "NC    2194\n",
       "MD    2066\n",
       "WA    1925\n",
       "MA    1696\n",
       "MO    1590\n",
       "MN    1554\n",
       "CO    1539\n",
       "IN    1518\n",
       "TN    1396\n",
       "CT    1371\n",
       "WI    1359\n",
       "AZ    1237\n",
       "AL    1085\n",
       "OR    1045\n",
       "NV     916\n",
       "SC     872\n",
       "KY     804\n",
       "KS     775\n",
       "LA     768\n",
       "AR     689\n",
       "OK     665\n",
       "MS     600\n",
       "NE     496\n",
       "UT     441\n",
       "NH     410\n",
       "RI     376\n",
       "ID     348\n",
       "DC     310\n",
       "HI     307\n",
       "NM     293\n",
       "WV     274\n",
       "DE     253\n",
       "MT     192\n",
       "SD     165\n",
       "VT     151\n",
       "AK     150\n",
       "WY     108\n",
       "Name: BorrowerState, dtype: int64"
      ]
     },
     "execution_count": 27,
     "metadata": {},
     "output_type": "execute_result"
    }
   ],
   "source": [
    "new_df['BorrowerState'].value_counts()"
   ]
  },
  {
   "cell_type": "code",
   "execution_count": 28,
   "metadata": {},
   "outputs": [
    {
     "data": {
      "image/png": "[encoded data removed]",
      "text/plain": [
       "<Figure size 720x360 with 1 Axes>"
      ]
     },
     "metadata": {
      "needs_background": "light"
     },
     "output_type": "display_data"
    }
   ],
   "source": [
    "#BorrowerState variable\n",
    "plt.figure(figsize = [10, 5]) \n",
    "base_color = sb.color_palette()[0]\n",
    "sb.countplot(data = new_df, x = 'BorrowerState', color = base_color,\n",
    "             order = new_df['BorrowerState'].value_counts().head(5).index );\n",
    "plt.title(\"Top 5 popular states for borrowers\");"
   ]
  },
  {
   "cell_type": "markdown",
   "metadata": {},
   "source": [
    "### Observation\n",
    "The Top 5 popular states we have borrowers from are CA, NY, TX, FL, IL. With CA being the at the top with almost double the counts of the borrowers in any of the follower states."
   ]
  },
  {
   "cell_type": "markdown",
   "metadata": {},
   "source": [
    "### Question\n",
    "Lets look at what the most popular occupations are for the borrowers"
   ]
  },
  {
   "cell_type": "markdown",
   "metadata": {},
   "source": [
    "### Visualisation"
   ]
  },
  {
   "cell_type": "code",
   "execution_count": 29,
   "metadata": {},
   "outputs": [
    {
     "data": {
      "text/plain": [
       "Other                          18501\n",
       "Professional                    9916\n",
       "Executive                       3206\n",
       "Computer Programmer             3038\n",
       "Teacher                         2777\n",
       "                               ...  \n",
       "Student - College Junior          19\n",
       "Student - College Freshman        12\n",
       "Student - College Sophomore        9\n",
       "Student - Community College        5\n",
       "Student - Technical School         1\n",
       "Name: Occupation, Length: 67, dtype: int64"
      ]
     },
     "execution_count": 29,
     "metadata": {},
     "output_type": "execute_result"
    }
   ],
   "source": [
    "new_df.Occupation.value_counts()"
   ]
  },
  {
   "cell_type": "code",
   "execution_count": 30,
   "metadata": {},
   "outputs": [
    {
     "data": {
      "image/png": "[encoded data removed]",
      "text/plain": [
       "<Figure size 720x360 with 1 Axes>"
      ]
     },
     "metadata": {
      "needs_background": "light"
     },
     "output_type": "display_data"
    }
   ],
   "source": [
    "\n",
    "plt.figure(figsize = [10, 5]) \n",
    "base_color = sb.color_palette()[0]\n",
    "sb.countplot(data = new_df, y = 'Occupation', color = base_color,\n",
    "             order = new_df['Occupation'].value_counts().head(10).index );\n",
    "plt.title(\"Top 10 most popular Occupations of all Borrowers\");"
   ]
  },
  {
   "cell_type": "markdown",
   "metadata": {},
   "source": [
    "### Observation\n",
    "Most common occupations among the borrowers were Other, Professional, Executive, Computer Programmer, Teacher."
   ]
  },
  {
   "cell_type": "markdown",
   "metadata": {},
   "source": [
    "### Question\n",
    "What does the Income Range and EmploymentStatus Variable tell us"
   ]
  },
  {
   "cell_type": "markdown",
   "metadata": {},
   "source": [
    "### Visualisation"
   ]
  },
  {
   "cell_type": "code",
   "execution_count": 31,
   "metadata": {},
   "outputs": [
    {
     "data": {
      "text/plain": [
       "Employed         65883\n",
       "Full-time         7577\n",
       "Other             2194\n",
       "Retired            320\n",
       "Part-time          199\n",
       "Self-employed       42\n",
       "Not employed         1\n",
       "Name: EmploymentStatus, dtype: int64"
      ]
     },
     "execution_count": 31,
     "metadata": {},
     "output_type": "execute_result"
    }
   ],
   "source": [
    "#It doesnt make sense to consider Unemployed status individual in the Income Range , as they dont have any income\n",
    "new_df.EmploymentStatus.value_counts()"
   ]
  },
  {
   "cell_type": "code",
   "execution_count": 32,
   "metadata": {},
   "outputs": [
    {
     "data": {
      "image/png": "[encoded data removed]",
      "text/plain": [
       "<Figure size 720x360 with 1 Axes>"
      ]
     },
     "metadata": {
      "needs_background": "light"
     },
     "output_type": "display_data"
    }
   ],
   "source": [
    "# 'EmploymentStatus'\n",
    "plt.figure(figsize = [10, 5]) \n",
    "base_color = sb.color_palette()[0]\n",
    "plt.title(\"EmploymentStatus of all Borrowers\")\n",
    "sb.countplot(data = new_df, x = 'EmploymentStatus', color = base_color,\n",
    "             order = new_df['EmploymentStatus'].value_counts().index);"
   ]
  },
  {
   "cell_type": "code",
   "execution_count": 33,
   "metadata": {},
   "outputs": [
    {
     "data": {
      "text/plain": [
       "$50,000-74,999    23692\n",
       "$25,000-49,999    21421\n",
       "$100,000+         13977\n",
       "$75,000-99,999    13547\n",
       "$1-24,999          3578\n",
       "Name: IncomeRange, dtype: int64"
      ]
     },
     "execution_count": 33,
     "metadata": {},
     "output_type": "execute_result"
    }
   ],
   "source": [
    "new_df.IncomeRange.value_counts()\n"
   ]
  },
  {
   "cell_type": "code",
   "execution_count": 34,
   "metadata": {},
   "outputs": [],
   "source": [
    "#So dropping the Not Employed personnel\n",
    "newer_df = new_df[new_df['IncomeRange'] != 'Not employed']"
   ]
  },
  {
   "cell_type": "code",
   "execution_count": 35,
   "metadata": {},
   "outputs": [
    {
     "data": {
      "image/png": "[encoded data removed]",
      "text/plain": [
       "<Figure size 1080x576 with 1 Axes>"
      ]
     },
     "metadata": {},
     "output_type": "display_data"
    }
   ],
   "source": [
    "#IncomeRange Variable\n",
    "plt.figure(figsize = [15, 8])\n",
    "sorted_counts = newer_df['IncomeRange'].value_counts()\n",
    "plt.pie(sorted_counts, labels = sorted_counts.index, startangle = 90,\n",
    "        counterclock = False, wedgeprops = {'width' : 0.6}, autopct   = '%.2f%%');\n",
    "plt.title(\"IncomeRange of the Borrowers\")\n",
    "plt.axis('square');"
   ]
  },
  {
   "cell_type": "markdown",
   "metadata": {},
   "source": [
    "### Observation\n",
    "Overall majority of the population of the dataset are employed, and the retired , not employed, self employed, part-time type of employments section were negligible compared to it.\n",
    "\n",
    "Most common income range was 50k-75k closely followed by 25k-50k range. It was rather amusing to look at the highest amount range which was 100k+ not adding to the lowest percentage of the borrowers, I think an income range of even higher paid individual would have made it such that it be the lowest percent of the population."
   ]
  },
  {
   "cell_type": "markdown",
   "metadata": {},
   "source": [
    "### Question\n",
    "\n",
    "Lets have a look at the ListingCategory_numeric Variable"
   ]
  },
  {
   "cell_type": "markdown",
   "metadata": {},
   "source": [
    "### Visualisation"
   ]
  },
  {
   "cell_type": "code",
   "execution_count": 36,
   "metadata": {},
   "outputs": [
    {
     "data": {
      "text/plain": [
       "1     48604\n",
       "7      8280\n",
       "2      6328\n",
       "3      3644\n",
       "6      2032\n",
       "13     1767\n",
       "15     1382\n",
       "14      795\n",
       "18      783\n",
       "20      729\n",
       "19      712\n",
       "16      289\n",
       "5       201\n",
       "11      201\n",
       "8       191\n",
       "9        83\n",
       "10       82\n",
       "17       49\n",
       "12       45\n",
       "0        19\n",
       "Name: ListingCategory_numeric, dtype: int64"
      ]
     },
     "execution_count": 36,
     "metadata": {},
     "output_type": "execute_result"
    }
   ],
   "source": [
    "new_df.ListingCategory_numeric.value_counts()"
   ]
  },
  {
   "cell_type": "markdown",
   "metadata": {},
   "source": [
    "The category of the listing that the borrower selected when posting their listing: 0 - Not Available, 1 - Debt Consolidation, 2 - Home Improvement, 3 - Business, 4 - Personal Loan, 5 - Student Use, 6 - Auto, 7- Other, 8 - Baby&Adoption, 9 - Boat, 10 - Cosmetic Procedure, 11 - Engagement Ring, 12 - Green Loans, 13 - Household Expenses, 14 - Large Purchases, 15 - Medical/Dental, 16 - Motorcycle, 17 - RV, 18 - Taxes, 19 - Vacation, 20 - Wedding Loans"
   ]
  },
  {
   "cell_type": "code",
   "execution_count": 37,
   "metadata": {},
   "outputs": [
    {
     "data": {
      "image/png": "[encoded data removed]",
      "text/plain": [
       "<Figure size 720x360 with 1 Axes>"
      ]
     },
     "metadata": {
      "needs_background": "light"
     },
     "output_type": "display_data"
    }
   ],
   "source": [
    "# ListingCategory_Numeric\n",
    "plt.figure(figsize = [10, 5]) \n",
    "base_color = sb.color_palette()[0]\n",
    "plt.title(\"Listing Categories \")\n",
    "sb.countplot(data = new_df, x = 'ListingCategory_numeric', color = base_color,\n",
    "             order = new_df['ListingCategory_numeric'].value_counts().index );"
   ]
  },
  {
   "cell_type": "markdown",
   "metadata": {},
   "source": [
    "### Observations\n",
    "\n",
    "We can observe that the most popular listing category for which loan borrowers were present were categories 1, 7 and 2 which signify Debt Consolidation, Other and Home Improvement categories. "
   ]
  },
  {
   "cell_type": "markdown",
   "metadata": {},
   "source": [
    "Now looking at numeric Variables"
   ]
  },
  {
   "cell_type": "markdown",
   "metadata": {},
   "source": [
    "### Question\n",
    "\n",
    "How does the DelinquenciesLast7Years variable look upon visualising."
   ]
  },
  {
   "cell_type": "markdown",
   "metadata": {},
   "source": [
    "### Visualisation"
   ]
  },
  {
   "cell_type": "code",
   "execution_count": 38,
   "metadata": {},
   "outputs": [
    {
     "data": {
      "image/png": "[encoded data removed]",
      "text/plain": [
       "<Figure size 432x288 with 1 Axes>"
      ]
     },
     "metadata": {
      "needs_background": "light"
     },
     "output_type": "display_data"
    }
   ],
   "source": [
    "plt.hist(data=new_df, x='DelinquenciesLast7Years', bins=50, color=base_color);"
   ]
  },
  {
   "cell_type": "markdown",
   "metadata": {},
   "source": [
    "### Observations\n",
    "Most of the borrowers have No Deinquencies in the past 7 years."
   ]
  },
  {
   "cell_type": "markdown",
   "metadata": {},
   "source": [
    "### Question\n",
    "\n",
    "Lets have a look at the BorrowerRate variable and how it changes."
   ]
  },
  {
   "cell_type": "markdown",
   "metadata": {},
   "source": [
    "### Visualisation"
   ]
  },
  {
   "cell_type": "code",
   "execution_count": 39,
   "metadata": {},
   "outputs": [
    {
     "data": {
      "image/png": "[encoded data removed]",
      "text/plain": [
       "<Figure size 432x288 with 1 Axes>"
      ]
     },
     "metadata": {
      "needs_background": "light"
     },
     "output_type": "display_data"
    }
   ],
   "source": [
    "plt.hist(data = new_df, x = 'BorrowerRate');\n",
    "plt.xlabel('BorrowerRate');\n",
    "plt.ylabel('Count');\n",
    "plt.title(\"BorrowerRate of all Borrowers\");"
   ]
  },
  {
   "cell_type": "markdown",
   "metadata": {},
   "source": [
    "### Observations\n",
    "BorrowRate is pretty mixed, with maximum number of borrowers having the borrowerRate of 0.15 or 15 percent. Interesting , very low count of people have the maximum of 35% or minimum of 5% borrowerRate.  "
   ]
  },
  {
   "cell_type": "markdown",
   "metadata": {},
   "source": [
    "### Question\n",
    "\n",
    "How does the variable EmploymentStatusDuration look like visually"
   ]
  },
  {
   "cell_type": "markdown",
   "metadata": {},
   "source": [
    "### Visualisation"
   ]
  },
  {
   "cell_type": "code",
   "execution_count": 40,
   "metadata": {},
   "outputs": [],
   "source": [
    "# new_df.EmploymentStatusDuration.value_counts()"
   ]
  },
  {
   "cell_type": "code",
   "execution_count": 41,
   "metadata": {},
   "outputs": [
    {
     "data": {
      "image/png": "[encoded data removed]",
      "text/plain": [
       "<Figure size 432x288 with 1 Axes>"
      ]
     },
     "metadata": {
      "needs_background": "light"
     },
     "output_type": "display_data"
    }
   ],
   "source": [
    "plt.hist(data = new_df, x = 'EmploymentStatusDuration');\n",
    "plt.xlabel('EmploymentStatusDuration');\n",
    "plt.ylabel('Count');\n",
    "plt.title(\"EmploymentStatusDuration of the Borrowers\");"
   ]
  },
  {
   "cell_type": "markdown",
   "metadata": {},
   "source": [
    "### Observations\n",
    "We can observe that most of the employees have been in their status for a range of 0-100 months."
   ]
  },
  {
   "cell_type": "markdown",
   "metadata": {},
   "source": [
    "### Question\n",
    " \n",
    "Lets have a look at the variable StatedMonthlyIncome"
   ]
  },
  {
   "cell_type": "markdown",
   "metadata": {},
   "source": [
    "### Visualisation"
   ]
  },
  {
   "cell_type": "code",
   "execution_count": 42,
   "metadata": {},
   "outputs": [
    {
     "data": {
      "text/plain": [
       "Index(['Term', 'LoanStatus', 'Yield', 'BorrowerAPR', 'BorrowerRate',\n",
       "       'ProsperRating_numeric', 'ProsperRating_alpha', 'ProsperScore',\n",
       "       'DelinquenciesLast7Years', 'ListingCategory_numeric',\n",
       "       'EmploymentStatus', 'Occupation', 'EmploymentStatusDuration',\n",
       "       'IsBorrowerHomeowner', 'StatedMonthlyIncome', 'IncomeVerifiable',\n",
       "       'Recommendations', 'DebtToIncomeRatio', 'LoanAmount', 'PercentFunded',\n",
       "       'IncomeRange', 'BorrowerState', 'Investors', 'CreditScoreRangeUpper',\n",
       "       'MonthlyLoanPayment'],\n",
       "      dtype='object')"
      ]
     },
     "execution_count": 42,
     "metadata": {},
     "output_type": "execute_result"
    }
   ],
   "source": [
    "new_df.columns"
   ]
  },
  {
   "cell_type": "code",
   "execution_count": 43,
   "metadata": {},
   "outputs": [
    {
     "data": {
      "text/plain": [
       "4166.666667     2400\n",
       "5000.000000     2265\n",
       "3333.333333     1885\n",
       "5833.333333     1812\n",
       "5416.666667     1749\n",
       "                ... \n",
       "2863.166667        1\n",
       "1360.500000        1\n",
       "5595.583333        1\n",
       "16466.666667       1\n",
       "18756.000000       1\n",
       "Name: StatedMonthlyIncome, Length: 8887, dtype: int64"
      ]
     },
     "execution_count": 43,
     "metadata": {},
     "output_type": "execute_result"
    }
   ],
   "source": [
    "new_df.StatedMonthlyIncome.value_counts()"
   ]
  },
  {
   "cell_type": "code",
   "execution_count": 44,
   "metadata": {},
   "outputs": [
    {
     "data": {
      "image/png": "[encoded data removed]",
      "text/plain": [
       "<Figure size 432x288 with 1 Axes>"
      ]
     },
     "metadata": {
      "needs_background": "light"
     },
     "output_type": "display_data"
    }
   ],
   "source": [
    "#looks like the income for nearly all the borrowers was less than 100k$, we need to change the scope of our visualisation\n",
    "plt.hist(data = new_df, x = 'StatedMonthlyIncome');\n",
    "plt.xlabel('StatedMonthlyIncome');\n",
    "plt.ylabel('Count');\n",
    "plt.title(\"StatedMonthlyIncome of all Borrowers\");"
   ]
  },
  {
   "cell_type": "code",
   "execution_count": 45,
   "metadata": {},
   "outputs": [
    {
     "data": {
      "text/plain": [
       "count     76216.000000\n",
       "mean       6002.833586\n",
       "std        5110.743506\n",
       "min           0.250000\n",
       "25%        3583.333333\n",
       "50%        5041.666667\n",
       "75%        7250.000000\n",
       "max      483333.333333\n",
       "Name: StatedMonthlyIncome, dtype: float64"
      ]
     },
     "execution_count": 45,
     "metadata": {},
     "output_type": "execute_result"
    }
   ],
   "source": [
    "new_df['StatedMonthlyIncome'].describe()"
   ]
  },
  {
   "cell_type": "code",
   "execution_count": 46,
   "metadata": {},
   "outputs": [
    {
     "data": {
      "text/plain": [
       "count    4.882046\n",
       "mean     3.778356\n",
       "std      3.708484\n",
       "min     -0.602060\n",
       "25%      3.554287\n",
       "50%      3.702574\n",
       "75%      3.860338\n",
       "max      5.684247\n",
       "Name: StatedMonthlyIncome, dtype: float64"
      ]
     },
     "execution_count": 46,
     "metadata": {},
     "output_type": "execute_result"
    }
   ],
   "source": [
    "np.log10(new_df['StatedMonthlyIncome'].describe())"
   ]
  },
  {
   "cell_type": "code",
   "execution_count": 47,
   "metadata": {},
   "outputs": [
    {
     "data": {
      "image/png": "[encoded data removed]",
      "text/plain": [
       "<Figure size 1080x720 with 2 Axes>"
      ]
     },
     "metadata": {
      "needs_background": "light"
     },
     "output_type": "display_data"
    }
   ],
   "source": [
    "# As the data is too skewed we need to have  a log transform of it for making the visualisation a bell curve\n",
    "# which would help us in making more specific statistic conclusions.\n",
    "plt.figure(figsize = [15,10])\n",
    "#getting only the data that has income less than 20k because mean was 6k\n",
    "limited_df = new_df[new_df['StatedMonthlyIncome'] <= 20000]\n",
    "# left plot: plot with limit of 25k as the max income\n",
    "plt.subplot(1, 2, 1)\n",
    "bin_edges = np.arange(0, limited_df['StatedMonthlyIncome'].max()+1000, 1000)\n",
    "plt.hist(data =limited_df, x = 'StatedMonthlyIncome', bins = bin_edges)\n",
    "plt.xlabel('StatedMonthlyIncome')\n",
    "plt.ylabel('Count');\n",
    "plt.title(\"StatedMonthlyIncome of all Borrowers\");\n",
    "\n",
    "# right plot: plot after log transformation of the data\n",
    "plt.subplot(1, 2, 2)\n",
    "log_data = np.log10(limited_df['StatedMonthlyIncome']) # direct data transform\n",
    "log_bin_edges = np.arange(3, log_data.max()+0.5, 0.025)\n",
    "plt.hist(log_data, bins = log_bin_edges)\n",
    "plt.xlabel('log10(StatedMonthlyIncome)');\n",
    "plt.ylabel('Count');\n",
    "plt.title(\"StatedMonthlyIncome of all Borrowers (Log Transform)\");\n",
    "\n"
   ]
  },
  {
   "cell_type": "markdown",
   "metadata": {},
   "source": [
    "### Observations\n",
    "We can observe from the visuals that majority of the population has been the StatedMonthlyIncome in the range 2.5k-10k $. with the maximum being at 5k$."
   ]
  },
  {
   "cell_type": "markdown",
   "metadata": {},
   "source": [
    "### Question\n",
    "\n",
    "Visualising the LoanAmount Variable"
   ]
  },
  {
   "cell_type": "markdown",
   "metadata": {},
   "source": [
    "### Visualisation"
   ]
  },
  {
   "cell_type": "code",
   "execution_count": 48,
   "metadata": {},
   "outputs": [
    {
     "data": {
      "image/png": "[encoded data removed]",
      "text/plain": [
       "<Figure size 432x288 with 1 Axes>"
      ]
     },
     "metadata": {
      "needs_background": "light"
     },
     "output_type": "display_data"
    }
   ],
   "source": [
    "plt.hist(data = new_df, x = 'LoanAmount');"
   ]
  },
  {
   "cell_type": "code",
   "execution_count": 49,
   "metadata": {},
   "outputs": [
    {
     "data": {
      "text/plain": [
       "count    76216.000000\n",
       "mean      9294.999410\n",
       "std       6413.404265\n",
       "min       1000.000000\n",
       "25%       4000.000000\n",
       "50%       8000.000000\n",
       "75%      14603.250000\n",
       "max      35000.000000\n",
       "Name: LoanAmount, dtype: float64"
      ]
     },
     "execution_count": 49,
     "metadata": {},
     "output_type": "execute_result"
    }
   ],
   "source": [
    "# As the plot is right skewed Lets take a look at it in more detail\n",
    "new_df['LoanAmount'].describe()"
   ]
  },
  {
   "cell_type": "code",
   "execution_count": 50,
   "metadata": {},
   "outputs": [
    {
     "data": {
      "text/plain": [
       "count    4.882046\n",
       "mean     3.968249\n",
       "std      3.807089\n",
       "min      3.000000\n",
       "25%      3.602060\n",
       "50%      3.903090\n",
       "75%      4.164450\n",
       "max      4.544068\n",
       "Name: LoanAmount, dtype: float64"
      ]
     },
     "execution_count": 50,
     "metadata": {},
     "output_type": "execute_result"
    }
   ],
   "source": [
    "np.log10(new_df['LoanAmount'].describe())"
   ]
  },
  {
   "cell_type": "code",
   "execution_count": 51,
   "metadata": {},
   "outputs": [
    {
     "data": {
      "image/png": "[encoded data removed]",
      "text/plain": [
       "<Figure size 1080x576 with 2 Axes>"
      ]
     },
     "metadata": {
      "needs_background": "light"
     },
     "output_type": "display_data"
    }
   ],
   "source": [
    "#Same as the StatemonthlyIncome we have to get a log transform as the dat ais skewed. \n",
    "plt.figure(figsize = [15, 8])\n",
    "#adding more bins for a detailed view\n",
    "# left plot: data plotted with more bins\n",
    "plt.subplot(1, 2, 1)\n",
    "bin_edges = np.arange(0, new_df['LoanAmount'].max()+1000, 1000)\n",
    "plt.hist(data =new_df, x = 'LoanAmount', bins = bin_edges)\n",
    "plt.xlabel('LoanOriginalAmount')\n",
    "plt.ylabel('Count');\n",
    "plt.title(\"LoanOriginalAmount of all Borrowers\");\n",
    "\n",
    "# right plot: data plotted after log transformation\n",
    "plt.subplot(1, 2, 2)\n",
    "log_data = np.log10(new_df['LoanAmount']) # direct data transform\n",
    "log_bin_edges = np.arange(3.0, log_data.max()+0.1, 0.2)\n",
    "plt.hist(log_data, bins = log_bin_edges)\n",
    "plt.xlabel('log(LoanOriginalAmount)');\n",
    "plt.ylabel('Count');\n",
    "plt.title(\"LoanOriginalAmount of all Borrowers (Log Transform)\");\n",
    "\n",
    "#Saving the log data for later bivariate analysis\n",
    "new_df['LoanAmount_log'] = np.log10(new_df['LoanAmount'])"
   ]
  },
  {
   "cell_type": "markdown",
   "metadata": {},
   "source": [
    "### Observations\n",
    "We can observe that the visualisation is right skewed with multiple local maximas at 4000 USD, 10000 USD and 15000 USD."
   ]
  },
  {
   "cell_type": "markdown",
   "metadata": {},
   "source": [
    "### Question\n",
    "\n",
    "Lets have a look at the PercentFunded Variable"
   ]
  },
  {
   "cell_type": "markdown",
   "metadata": {},
   "source": [
    "### Visualisation"
   ]
  },
  {
   "cell_type": "code",
   "execution_count": 52,
   "metadata": {},
   "outputs": [
    {
     "data": {
      "image/png": "[encoded data removed]",
      "text/plain": [
       "<Figure size 432x288 with 1 Axes>"
      ]
     },
     "metadata": {
      "needs_background": "light"
     },
     "output_type": "display_data"
    }
   ],
   "source": [
    "plt.hist(data = new_df, x = 'PercentFunded');"
   ]
  },
  {
   "cell_type": "markdown",
   "metadata": {},
   "source": [
    "### Observations\n",
    "We can observe that the PercentFunded variable is dominated by nearly all the population at 100% funded and a very tiny amount 70-73% funded loans. This was kind of a deadend variable as it didnt give much of the information that is required for my interest goal."
   ]
  },
  {
   "cell_type": "markdown",
   "metadata": {},
   "source": [
    "### Question\n",
    "\n",
    "Lets have a go at the Investors variable"
   ]
  },
  {
   "cell_type": "markdown",
   "metadata": {},
   "source": [
    "### Visualisation"
   ]
  },
  {
   "cell_type": "code",
   "execution_count": 53,
   "metadata": {},
   "outputs": [
    {
     "data": {
      "image/png": "[encoded data removed]",
      "text/plain": [
       "<Figure size 432x288 with 1 Axes>"
      ]
     },
     "metadata": {
      "needs_background": "light"
     },
     "output_type": "display_data"
    }
   ],
   "source": [
    "plt.hist(data = new_df, x = 'Investors');"
   ]
  },
  {
   "cell_type": "code",
   "execution_count": 54,
   "metadata": {},
   "outputs": [
    {
     "data": {
      "text/plain": [
       "count    76216.000000\n",
       "mean        69.998517\n",
       "std         97.801415\n",
       "min          1.000000\n",
       "25%          1.000000\n",
       "50%         32.000000\n",
       "75%        100.000000\n",
       "max       1189.000000\n",
       "Name: Investors, dtype: float64"
      ]
     },
     "execution_count": 54,
     "metadata": {},
     "output_type": "execute_result"
    }
   ],
   "source": [
    "# Again the plot is a bit right skewed lets take a look at it in more detail\n",
    "new_df['Investors'].describe()"
   ]
  },
  {
   "cell_type": "code",
   "execution_count": 55,
   "metadata": {},
   "outputs": [
    {
     "data": {
      "image/png": "[encoded data removed]",
      "text/plain": [
       "<Figure size 1080x720 with 2 Axes>"
      ]
     },
     "metadata": {
      "needs_background": "light"
     },
     "output_type": "display_data"
    }
   ],
   "source": [
    "\n",
    "# Same as StateMonthlyIncome , skewed distribution.\n",
    "plt.figure(figsize = [15, 10])\n",
    "\n",
    "# left histogram: data plotted in natural units\n",
    "plt.subplot(1, 2, 1)\n",
    "bin_edges = np.arange(0, new_df['Investors'].max()+10, 100)\n",
    "plt.hist(data =new_df, x = 'Investors', bins = bin_edges)\n",
    "plt.xlabel('Investors')\n",
    "plt.title(\"Investors of all Borrowers\");\n",
    "\n",
    "# right histogram: data plotted after direct log transformation\n",
    "plt.subplot(1, 2, 2)\n",
    "log_data = np.log10(new_df['Investors']) # direct data transform\n",
    "log_bin_edges = np.arange(0.8, log_data.max()+0.1, 0.1)\n",
    "plt.hist(log_data, bins = log_bin_edges)\n",
    "plt.xlabel('log(Investors)')\n",
    "plt.title(\"Investors of all Borrowers (Log)\");\n",
    "\n",
    "# Saving the log transform data for later bivariate analysis\n",
    "new_df['Investors_log'] = np.log10(new_df['Investors'])"
   ]
  },
  {
   "cell_type": "markdown",
   "metadata": {},
   "source": [
    "### Observations\n",
    "For Investors majority of the population lies withing the 0-100 mark, very low count of people get the mark above 100 Investors."
   ]
  },
  {
   "cell_type": "markdown",
   "metadata": {},
   "source": [
    "### Question\n",
    "\n",
    "How does the CreditScoreRangeUpper Variable look like"
   ]
  },
  {
   "cell_type": "markdown",
   "metadata": {},
   "source": [
    "### Visualisation"
   ]
  },
  {
   "cell_type": "code",
   "execution_count": 56,
   "metadata": {},
   "outputs": [
    {
     "data": {
      "image/png": "[encoded data removed]",
      "text/plain": [
       "<Figure size 720x360 with 1 Axes>"
      ]
     },
     "metadata": {
      "needs_background": "light"
     },
     "output_type": "display_data"
    }
   ],
   "source": [
    "plt.figure(figsize = [10, 5]) \n",
    "base_color = sb.color_palette()[0]\n",
    "plt.title(\"CreditScoreRangeUpper\")\n",
    "sb.countplot(data = new_df, x = 'CreditScoreRangeUpper', color = base_color,\n",
    "             order = new_df['CreditScoreRangeUpper'].value_counts().index );"
   ]
  },
  {
   "cell_type": "markdown",
   "metadata": {},
   "source": [
    "### Observations\n",
    "The Credit Score upper Range was a variable I expected to have some kind of impact on the loan approval chance, it looks like a lot of people have average upper range for their credit score, maybe most of the loan borrowers dont have much of a credit history."
   ]
  },
  {
   "cell_type": "markdown",
   "metadata": {},
   "source": [
    "##### Some more cleaning\n",
    "I had to undertake some cleaning after the single variable visualisations, I am doing this now because I couldnt introduce new variables in the middle of an analysis , also now is just the right time as it would make the bivariate and multivariate analysis cleaner. Further in the future if there needs be a change, I have done it in the tabs near the visualisation itself."
   ]
  },
  {
   "cell_type": "code",
   "execution_count": 57,
   "metadata": {},
   "outputs": [],
   "source": [
    "# Considering that the income outside 3 standard deviations will be error prone we remove the outliers from StateMonthlyIncome\n",
    "income_std = new_df['StatedMonthlyIncome'].std()\n",
    "income_mean = new_df['StatedMonthlyIncome'].mean()\n",
    "boundary = income_mean + income_std * 3\n",
    "clean_df = new_df[new_df['StatedMonthlyIncome'] < boundary]"
   ]
  },
  {
   "cell_type": "code",
   "execution_count": 58,
   "metadata": {},
   "outputs": [],
   "source": [
    "# Also controlling the number of Loan Listing Categories for better visualisations I have chosen 1,2,3,6,7 catgories only \n",
    "# because they comprised of the most of the population of the dataset\n",
    "categories = {1: 'Debt Consolidation', 2: 'Home Improvement', 3: 'Business', 6: 'Auto', 7: 'Other'}\n",
    "# reduced categories function does exactly what its name suggests.\n",
    "def reduced_categories(row):\n",
    "    loan_category = row['ListingCategory_numeric']\n",
    "    if  loan_category in categories:\n",
    "        return categories[loan_category]\n",
    "    else:\n",
    "        # return as other type, if not present in categories list\n",
    "        return categories[7]"
   ]
  },
  {
   "cell_type": "code",
   "execution_count": 59,
   "metadata": {},
   "outputs": [],
   "source": [
    "clean_df['ListingCategory_numeric'] = clean_df.apply(reduced_categories, axis=1)\n"
   ]
  },
  {
   "cell_type": "code",
   "execution_count": 60,
   "metadata": {},
   "outputs": [
    {
     "data": {
      "text/plain": [
       "Debt Consolidation    48256\n",
       "Other                 15485\n",
       "Home Improvement       6231\n",
       "Business               3619\n",
       "Auto                   2029\n",
       "Name: ListingCategory_numeric, dtype: int64"
      ]
     },
     "execution_count": 60,
     "metadata": {},
     "output_type": "execute_result"
    }
   ],
   "source": [
    "clean_df.ListingCategory_numeric.value_counts()"
   ]
  },
  {
   "cell_type": "code",
   "execution_count": null,
   "metadata": {},
   "outputs": [],
   "source": []
  },
  {
   "cell_type": "markdown",
   "metadata": {},
   "source": [
    "### Discuss the distribution(s) of your variable(s) of interest. Were there any unusual points? Did you need to perform any transformations?\n",
    "\n",
    "- BorrowerRate: It is the interest the borrower has to pay for his loan. It has unimodal distribution, with One unusual point I observed as a spike in the borrowers for the rate 0.32.\n",
    "- StatedMonthlyIncome : The monthly income the borrower stated at the time the listing was created. It was expected that the distribution would be right skewed considering the gap between the rich and poor, I observed most of the borrowers had a salary in the range of 2500-10000, with a peak at 5000. Had to take a log transform of the data for better visualisation.\n",
    "- LoanOriginalAmount: The origination amount of the loan.We can observe that the visualisation is right skewed with multiple local maximas at 4000 USD, 10000 USD and 15000 USD. These 3 maximas were unusual according to me. Had to take a log transform of the data for better visualisation.\n",
    "- Investors:The number of investors that funded the loan. For Investors majority of the population lies withing the 0-100 mark, very low count of people get the mark above 100 Investors. Had to take a log transform of the data for better visualisation.\n",
    "\n",
    "### Of the features you investigated, were there any unusual distributions? Did you perform any operations on the data to tidy, adjust, or change the form of the data? If so, why did you do this?\n",
    "\n",
    "- StatedMonthlyIncome,LoanOriginalAmount,Investors  :  Had to take a log transform of the data for better visualisation. As all of them were right skewed.\n",
    "- StatedMonthlyIncome: I had to remove the outliers from the data as there were a very low percentage of people in the highly paid bracket, which made no sense to include in the visualisation as it wont dicatate the situation for majority of the population.\n",
    "- ListingCategory_numeric: The number of categories for this variable were plenty high, while majority of the population was located in only certain catgories such as 1: 'Debt Consolidation', 2: 'Home Improvement', 3: 'Business', 6: 'Auto', 7: 'Other', I only considered the above and removed the rest using a function named reduced_categories\n"
   ]
  },
  {
   "cell_type": "markdown",
   "metadata": {},
   "source": [
    "## Bivariate Exploration\n",
    "\n",
    "> In this section, investigate relationships between pairs of variables in your\n",
    "data. Make sure the variables that you cover here have been introduced in some\n",
    "fashion in the previous section (univariate exploration)."
   ]
  },
  {
   "cell_type": "markdown",
   "metadata": {},
   "source": [
    "### Question\n",
    "How are the numeric variables of interest related?"
   ]
  },
  {
   "cell_type": "markdown",
   "metadata": {},
   "source": [
    "### Visualisation"
   ]
  },
  {
   "cell_type": "code",
   "execution_count": 61,
   "metadata": {},
   "outputs": [
    {
     "data": {
      "text/plain": [
       "Index(['Term', 'LoanStatus', 'Yield', 'BorrowerAPR', 'BorrowerRate',\n",
       "       'ProsperRating_numeric', 'ProsperRating_alpha', 'ProsperScore',\n",
       "       'DelinquenciesLast7Years', 'ListingCategory_numeric',\n",
       "       'EmploymentStatus', 'Occupation', 'EmploymentStatusDuration',\n",
       "       'IsBorrowerHomeowner', 'StatedMonthlyIncome', 'IncomeVerifiable',\n",
       "       'Recommendations', 'DebtToIncomeRatio', 'LoanAmount', 'PercentFunded',\n",
       "       'IncomeRange', 'BorrowerState', 'Investors', 'CreditScoreRangeUpper',\n",
       "       'MonthlyLoanPayment', 'LoanAmount_log', 'Investors_log'],\n",
       "      dtype='object')"
      ]
     },
     "execution_count": 61,
     "metadata": {},
     "output_type": "execute_result"
    }
   ],
   "source": [
    "clean_df.columns"
   ]
  },
  {
   "cell_type": "code",
   "execution_count": 62,
   "metadata": {},
   "outputs": [],
   "source": [
    "numeric_variables=['BorrowerRate','ProsperScore','StatedMonthlyIncome','MonthlyLoanPayment','LoanAmount'\n",
    "                   ,'DelinquenciesLast7Years','Investors','LoanAmount_log','Investors_log']"
   ]
  },
  {
   "cell_type": "code",
   "execution_count": 63,
   "metadata": {},
   "outputs": [
    {
     "data": {
      "image/png": "[encoded data removed]",
      "text/plain": [
       "<Figure size 864x576 with 2 Axes>"
      ]
     },
     "metadata": {
      "needs_background": "light"
     },
     "output_type": "display_data"
    }
   ],
   "source": [
    "# correlation plot\n",
    "plt.figure(figsize = [12, 8])\n",
    "sb.heatmap(clean_df[numeric_variables].corr(), annot = True, fmt = '.4f',\n",
    "           cmap = 'vlag_r', center = 0)\n",
    "plt.show()"
   ]
  },
  {
   "cell_type": "markdown",
   "metadata": {},
   "source": [
    "### Observations\n",
    "\n",
    "We can observe that the LoanOriginalAmount and Monthly LoanPayment are highly correlated,borrowerrate and prosper score are highly correlated(negative correlation), borrowerrate and LoanOriginalAmount are (negative correlation).\n",
    "\n"
   ]
  },
  {
   "cell_type": "markdown",
   "metadata": {},
   "source": [
    "### Question\n",
    "\n",
    "Lets have a look at the relation between the variables, LoanAmount, BorrowerRate and ProsperRating and ListingCategory"
   ]
  },
  {
   "cell_type": "markdown",
   "metadata": {},
   "source": [
    "### Visualisation"
   ]
  },
  {
   "cell_type": "code",
   "execution_count": 64,
   "metadata": {},
   "outputs": [
    {
     "ename": "KeyError",
     "evalue": "'[24706, 3337, 1076, 47956, 20658, 30438, 5325, 63684, 11862, 39917, 35106, 45954, 2036, 73850, 62969, 6777, 48992, 71052, 59076, 58602, 72126, 6158, 26914, 61415, 13778, 33743, 58136, 49995, 32233, 21776, 26345, 66586, 23268, 67408, 60170, 48237, 28583, 73421, 53516, 30967, 42613, 2465, 18533, 41798, 29938, 52088, 1919, 66754, 52206, 65496, 54374, 55870, 29535, 63523, 55980, 63361, 74225, 16827, 23467, 29056, 46917, 65249, 4550, 2535, 45226, 52296, 1049, 25134, 51793, 5845, 55038, 66239, 54603, 14683, 25222, 19470, 47187, 27295, 30291, 64816, 1213, 64802, 49888, 26628, 13885, 4619, 26135, 68069, 36166, 51610, 59329, 57580, 2895, 13357, 7687, 2159, 8811, 21308, 71428, 15297, 8638, 56999, 29073, 45755, 59472, 36128, 18930, 24096, 58281, 30231, 8407, 55136, 3720, 30554, 57669, 52430, 9737, 73183, 28673, 67249, 69863, 42877, 10059, 64636, 27925, 6994, 224, 9493, 43747, 51929, 26700, 8623, 27235, 72324, 52476, 16615, 26953, 13146, 52288, 55017, 38182, 39264, 27554, 75614, 53994, 23229, 47539, 59391, 65650, 65546, 54048, 18212, 42200, 10784, 13183, 11137, 21405, 20422, 8453, 73578, 9194, 71879, 38158, 38759, 43956, 53040, 62843, 55679, 72593, 18729, 64437, 29280, 16189, 53766, 62640, 41115, 47920, 51070, 60956, 8950, 15226, 9827, 60025, 25688, 7107, 45669, 47505, 31534, 59321, 59220, 26292, 34629, 55057, 45762, 38484, 21900, 29070, 2145, 43876, 62011, 21840, 8118, 21182, 17181, 56223, 9263, 63695, 59263, 934, 43916, 29350, 14291, 49355, 72663, 57600, 75249, 57301, 62756, 26813, 44381, 6366, 7730, 67049, 1897, 44382, 66274, 67549, 32907, 5548, 72440, 70490, 45366, 65587, 41133, 1043, 23518, 29383, 54101, 36538, 43699, 60860, 74492, 21200, 43533, 7303, 581, 47620, 72570, 28210, 28359, 56261, 67487, 32737, 57572, 28768, 64045, 52718, 44096, 1140, 38951, 8466, 46042, 16467, 12593, 49296, 65766, 38143, 45292, 59829, 24939, 44879, 32385, 37008, 62905, 6169, 15669, 7701, 23607, 15455, 60387, 49855, 66903, 29201, 20268, 41838, 51743, 5251, 14679, 45001, 33243, 26058, 56343, 62172, 21069, 48957, 50636, 31035, 15370, 8703, 23117, 28017, 13304, 61685, 43295, 32132, 5656, 6834, 67087, 17315, 17313, 61186, 69913, 21228, 43796, 74876, 16248, 54115, 59316, 65278, 61330, 72977, 74935, 46610, 57626, 65493, 52349, 10222, 50514, 72086, 42558, 2715, 55860, 6594, 1048, 70266, 68199, 48077, 50816, 16491, 58852, 45253, 2878, 72827, 9489, 30003, 20300, 31912, 67185, 23705, 43684, 12735, 44091, 41352, 8316, 13109, 36656, 7458, 18830, 14518, 11604, 66479, 51337, 27593, 20710, 47451, 32508, 23259, 1532, 53165, 55953, 25003, 1930, 34215, 60740, 24030, 31218, 68007, 74322, 412, 74487, 53815, 11421, 45128, 43958, 22764, 1882, 64118, 47162, 74204, 57612, 4420, 1242, 43246, 62382, 41326, 2677, 43190, 62302, 43870, 36489, 20462, 28360, 40592, 8232, 46463, 29429, 49005, 27420, 1797, 8097, 45456, 1523, 23618, 15099, 35714, 27058, 55266, 22007, 62395, 22548, 38397, 3897, 53187, 47506, 72961, 63905, 26020, 23859, 32315, 37625, 57085, 65194, 50839, 2002, 23187, 61414, 18220, 5027, 50252, 13094, 65888, 22610, 45627, 59005, 30627, 10572, 44791, 34184, 71812, 73713, 73250, 41005, 18039, 57237, 36977, 72137, 69490, 39208, 54897, 30915, 35842, 41700, 2262, 47497, 58428, 30626, 800, 48546, 64511, 4797, 62564, 59495, 74311, 36652, 21290, 54150, 51319, 62856, 51476, 33778, 54781, 3277, 18425, 5671, 26332, 75138, 11215, 20773, 44335, 14672, 22774, 33902, 27579, 38721, 29790, 73123, 39468, 9643, 40050, 41949, 314, 49913, 50091, 34104, 28846, 29821, 3032, 64657, 15780, 23390, 46271, 25093, 12745, 30714, 2820, 61208, 9175, 53246, 7944, 59743, 7238, 20889, 36632, 50502, 60864, 46635, 15993, 47927, 71285, 973, 60866, 9561, 55531, 23981, 53898, 35679, 75161, 26165, 57646, 73848, 32656, 64164, 70749, 36906, 46685, 10758, 19682, 45817, 26434, 6015, 10159, 53653, 55106, 26307, 68934, 30775, 55862, 31440, 16334, 18545, 45347, 25569, 24179, 37354, 1548, 70931, 60810, 18206, 9294, 14404, 65373, 57849, 68708, 29961, 31325, 9204, 74972, 6729, 62447, 18617, 14678, 34746, 6470, 7397, 39523, 43828, 13523, 20485, 60737, 48586, 50449, 47002, 63779, 46381, 75445, 31538, 47394, 24806, 45579, 7681, 27313, 24779, 67390, 70879, 70814, 23262, 73481, 72538, 1208, 50165, 37430, 33804, 73716, 56306, 68436, 50665, 55338, 70553, 6604, 52855, 6482, 63568, 36531, 55303, 26824, 42086, 35348, 70028, 24093, 3547, 57271, 23779, 23876, 16624, 11463, 14931, 13854, 4143, 16210, 18640, 48261, 19229, 52333, 4263, 18879, 57051, 1373, 27320, 46719, 52195, 252, 16614, 50863, 69100, 57767, 29854, 40611, 41792, 74631, 61466, 45116, 42428, 6752, 33875, 42905, 40589, 40026, 39922, 52945, 19256, 68745, 67661, 12746, 17758, 74787, 70042, 24049, 65981, 7259, 67416, 9371, 2622, 57088, 5352, 31288, 5114, 15771, 54908] not in index'",
     "output_type": "error",
     "traceback": [
      "\u001b[1;31m---------------------------------------------------------------------------\u001b[0m",
      "\u001b[1;31mKeyError\u001b[0m                                  Traceback (most recent call last)",
      "\u001b[1;32m~\\AppData\\Local\\Temp/ipykernel_8956/3134144000.py\u001b[0m in \u001b[0;36m<module>\u001b[1;34m\u001b[0m\n\u001b[0;32m      2\u001b[0m \u001b[0mcategoric_vars\u001b[0m \u001b[1;33m=\u001b[0m \u001b[1;33m[\u001b[0m\u001b[1;34m'ProsperRating_alpha'\u001b[0m\u001b[1;33m,\u001b[0m \u001b[1;34m'ListingCategory_numeric'\u001b[0m\u001b[1;33m]\u001b[0m\u001b[1;33m\u001b[0m\u001b[1;33m\u001b[0m\u001b[0m\n\u001b[0;32m      3\u001b[0m \u001b[0msamples\u001b[0m \u001b[1;33m=\u001b[0m \u001b[0mnp\u001b[0m\u001b[1;33m.\u001b[0m\u001b[0mrandom\u001b[0m\u001b[1;33m.\u001b[0m\u001b[0mchoice\u001b[0m\u001b[1;33m(\u001b[0m\u001b[0mclean_df\u001b[0m\u001b[1;33m.\u001b[0m\u001b[0mshape\u001b[0m\u001b[1;33m[\u001b[0m\u001b[1;36m0\u001b[0m\u001b[1;33m]\u001b[0m\u001b[1;33m,\u001b[0m \u001b[1;36m2000\u001b[0m\u001b[1;33m,\u001b[0m \u001b[0mreplace\u001b[0m \u001b[1;33m=\u001b[0m \u001b[1;32mFalse\u001b[0m\u001b[1;33m)\u001b[0m\u001b[1;33m\u001b[0m\u001b[1;33m\u001b[0m\u001b[0m\n\u001b[1;32m----> 4\u001b[1;33m \u001b[0mloan_df_samp\u001b[0m \u001b[1;33m=\u001b[0m \u001b[0mclean_df\u001b[0m\u001b[1;33m.\u001b[0m\u001b[0mloc\u001b[0m\u001b[1;33m[\u001b[0m\u001b[0msamples\u001b[0m\u001b[1;33m,\u001b[0m\u001b[1;33m:\u001b[0m\u001b[1;33m]\u001b[0m\u001b[1;33m\u001b[0m\u001b[1;33m\u001b[0m\u001b[0m\n\u001b[0m\u001b[0;32m      5\u001b[0m \u001b[1;33m\u001b[0m\u001b[0m\n\u001b[0;32m      6\u001b[0m \u001b[1;32mdef\u001b[0m \u001b[0mboxgrid\u001b[0m\u001b[1;33m(\u001b[0m\u001b[0mx\u001b[0m\u001b[1;33m,\u001b[0m \u001b[0my\u001b[0m\u001b[1;33m,\u001b[0m \u001b[1;33m**\u001b[0m\u001b[0mkwargs\u001b[0m\u001b[1;33m)\u001b[0m\u001b[1;33m:\u001b[0m\u001b[1;33m\u001b[0m\u001b[1;33m\u001b[0m\u001b[0m\n",
      "\u001b[1;32m~\\anaconda3\\lib\\site-packages\\pandas\\core\\indexing.py\u001b[0m in \u001b[0;36m__getitem__\u001b[1;34m(self, key)\u001b[0m\n\u001b[0;32m    923\u001b[0m                 \u001b[1;32mwith\u001b[0m \u001b[0msuppress\u001b[0m\u001b[1;33m(\u001b[0m\u001b[0mKeyError\u001b[0m\u001b[1;33m,\u001b[0m \u001b[0mIndexError\u001b[0m\u001b[1;33m)\u001b[0m\u001b[1;33m:\u001b[0m\u001b[1;33m\u001b[0m\u001b[1;33m\u001b[0m\u001b[0m\n\u001b[0;32m    924\u001b[0m                     \u001b[1;32mreturn\u001b[0m \u001b[0mself\u001b[0m\u001b[1;33m.\u001b[0m\u001b[0mobj\u001b[0m\u001b[1;33m.\u001b[0m\u001b[0m_get_value\u001b[0m\u001b[1;33m(\u001b[0m\u001b[1;33m*\u001b[0m\u001b[0mkey\u001b[0m\u001b[1;33m,\u001b[0m \u001b[0mtakeable\u001b[0m\u001b[1;33m=\u001b[0m\u001b[0mself\u001b[0m\u001b[1;33m.\u001b[0m\u001b[0m_takeable\u001b[0m\u001b[1;33m)\u001b[0m\u001b[1;33m\u001b[0m\u001b[1;33m\u001b[0m\u001b[0m\n\u001b[1;32m--> 925\u001b[1;33m             \u001b[1;32mreturn\u001b[0m \u001b[0mself\u001b[0m\u001b[1;33m.\u001b[0m\u001b[0m_getitem_tuple\u001b[0m\u001b[1;33m(\u001b[0m\u001b[0mkey\u001b[0m\u001b[1;33m)\u001b[0m\u001b[1;33m\u001b[0m\u001b[1;33m\u001b[0m\u001b[0m\n\u001b[0m\u001b[0;32m    926\u001b[0m         \u001b[1;32melse\u001b[0m\u001b[1;33m:\u001b[0m\u001b[1;33m\u001b[0m\u001b[1;33m\u001b[0m\u001b[0m\n\u001b[0;32m    927\u001b[0m             \u001b[1;31m# we by definition only have the 0th axis\u001b[0m\u001b[1;33m\u001b[0m\u001b[1;33m\u001b[0m\u001b[0m\n",
      "\u001b[1;32m~\\anaconda3\\lib\\site-packages\\pandas\\core\\indexing.py\u001b[0m in \u001b[0;36m_getitem_tuple\u001b[1;34m(self, tup)\u001b[0m\n\u001b[0;32m   1107\u001b[0m             \u001b[1;32mreturn\u001b[0m \u001b[0mself\u001b[0m\u001b[1;33m.\u001b[0m\u001b[0m_multi_take\u001b[0m\u001b[1;33m(\u001b[0m\u001b[0mtup\u001b[0m\u001b[1;33m)\u001b[0m\u001b[1;33m\u001b[0m\u001b[1;33m\u001b[0m\u001b[0m\n\u001b[0;32m   1108\u001b[0m \u001b[1;33m\u001b[0m\u001b[0m\n\u001b[1;32m-> 1109\u001b[1;33m         \u001b[1;32mreturn\u001b[0m \u001b[0mself\u001b[0m\u001b[1;33m.\u001b[0m\u001b[0m_getitem_tuple_same_dim\u001b[0m\u001b[1;33m(\u001b[0m\u001b[0mtup\u001b[0m\u001b[1;33m)\u001b[0m\u001b[1;33m\u001b[0m\u001b[1;33m\u001b[0m\u001b[0m\n\u001b[0m\u001b[0;32m   1110\u001b[0m \u001b[1;33m\u001b[0m\u001b[0m\n\u001b[0;32m   1111\u001b[0m     \u001b[1;32mdef\u001b[0m \u001b[0m_get_label\u001b[0m\u001b[1;33m(\u001b[0m\u001b[0mself\u001b[0m\u001b[1;33m,\u001b[0m \u001b[0mlabel\u001b[0m\u001b[1;33m,\u001b[0m \u001b[0maxis\u001b[0m\u001b[1;33m:\u001b[0m \u001b[0mint\u001b[0m\u001b[1;33m)\u001b[0m\u001b[1;33m:\u001b[0m\u001b[1;33m\u001b[0m\u001b[1;33m\u001b[0m\u001b[0m\n",
      "\u001b[1;32m~\\anaconda3\\lib\\site-packages\\pandas\\core\\indexing.py\u001b[0m in \u001b[0;36m_getitem_tuple_same_dim\u001b[1;34m(self, tup)\u001b[0m\n\u001b[0;32m    804\u001b[0m                 \u001b[1;32mcontinue\u001b[0m\u001b[1;33m\u001b[0m\u001b[1;33m\u001b[0m\u001b[0m\n\u001b[0;32m    805\u001b[0m \u001b[1;33m\u001b[0m\u001b[0m\n\u001b[1;32m--> 806\u001b[1;33m             \u001b[0mretval\u001b[0m \u001b[1;33m=\u001b[0m \u001b[0mgetattr\u001b[0m\u001b[1;33m(\u001b[0m\u001b[0mretval\u001b[0m\u001b[1;33m,\u001b[0m \u001b[0mself\u001b[0m\u001b[1;33m.\u001b[0m\u001b[0mname\u001b[0m\u001b[1;33m)\u001b[0m\u001b[1;33m.\u001b[0m\u001b[0m_getitem_axis\u001b[0m\u001b[1;33m(\u001b[0m\u001b[0mkey\u001b[0m\u001b[1;33m,\u001b[0m \u001b[0maxis\u001b[0m\u001b[1;33m=\u001b[0m\u001b[0mi\u001b[0m\u001b[1;33m)\u001b[0m\u001b[1;33m\u001b[0m\u001b[1;33m\u001b[0m\u001b[0m\n\u001b[0m\u001b[0;32m    807\u001b[0m             \u001b[1;31m# We should never have retval.ndim < self.ndim, as that should\u001b[0m\u001b[1;33m\u001b[0m\u001b[1;33m\u001b[0m\u001b[0m\n\u001b[0;32m    808\u001b[0m             \u001b[1;31m#  be handled by the _getitem_lowerdim call above.\u001b[0m\u001b[1;33m\u001b[0m\u001b[1;33m\u001b[0m\u001b[0m\n",
      "\u001b[1;32m~\\anaconda3\\lib\\site-packages\\pandas\\core\\indexing.py\u001b[0m in \u001b[0;36m_getitem_axis\u001b[1;34m(self, key, axis)\u001b[0m\n\u001b[0;32m   1151\u001b[0m                     \u001b[1;32mraise\u001b[0m \u001b[0mValueError\u001b[0m\u001b[1;33m(\u001b[0m\u001b[1;34m\"Cannot index with multidimensional key\"\u001b[0m\u001b[1;33m)\u001b[0m\u001b[1;33m\u001b[0m\u001b[1;33m\u001b[0m\u001b[0m\n\u001b[0;32m   1152\u001b[0m \u001b[1;33m\u001b[0m\u001b[0m\n\u001b[1;32m-> 1153\u001b[1;33m                 \u001b[1;32mreturn\u001b[0m \u001b[0mself\u001b[0m\u001b[1;33m.\u001b[0m\u001b[0m_getitem_iterable\u001b[0m\u001b[1;33m(\u001b[0m\u001b[0mkey\u001b[0m\u001b[1;33m,\u001b[0m \u001b[0maxis\u001b[0m\u001b[1;33m=\u001b[0m\u001b[0maxis\u001b[0m\u001b[1;33m)\u001b[0m\u001b[1;33m\u001b[0m\u001b[1;33m\u001b[0m\u001b[0m\n\u001b[0m\u001b[0;32m   1154\u001b[0m \u001b[1;33m\u001b[0m\u001b[0m\n\u001b[0;32m   1155\u001b[0m             \u001b[1;31m# nested tuple slicing\u001b[0m\u001b[1;33m\u001b[0m\u001b[1;33m\u001b[0m\u001b[0m\n",
      "\u001b[1;32m~\\anaconda3\\lib\\site-packages\\pandas\\core\\indexing.py\u001b[0m in \u001b[0;36m_getitem_iterable\u001b[1;34m(self, key, axis)\u001b[0m\n\u001b[0;32m   1091\u001b[0m \u001b[1;33m\u001b[0m\u001b[0m\n\u001b[0;32m   1092\u001b[0m         \u001b[1;31m# A collection of keys\u001b[0m\u001b[1;33m\u001b[0m\u001b[1;33m\u001b[0m\u001b[0m\n\u001b[1;32m-> 1093\u001b[1;33m         \u001b[0mkeyarr\u001b[0m\u001b[1;33m,\u001b[0m \u001b[0mindexer\u001b[0m \u001b[1;33m=\u001b[0m \u001b[0mself\u001b[0m\u001b[1;33m.\u001b[0m\u001b[0m_get_listlike_indexer\u001b[0m\u001b[1;33m(\u001b[0m\u001b[0mkey\u001b[0m\u001b[1;33m,\u001b[0m \u001b[0maxis\u001b[0m\u001b[1;33m)\u001b[0m\u001b[1;33m\u001b[0m\u001b[1;33m\u001b[0m\u001b[0m\n\u001b[0m\u001b[0;32m   1094\u001b[0m         return self.obj._reindex_with_indexers(\n\u001b[0;32m   1095\u001b[0m             \u001b[1;33m{\u001b[0m\u001b[0maxis\u001b[0m\u001b[1;33m:\u001b[0m \u001b[1;33m[\u001b[0m\u001b[0mkeyarr\u001b[0m\u001b[1;33m,\u001b[0m \u001b[0mindexer\u001b[0m\u001b[1;33m]\u001b[0m\u001b[1;33m}\u001b[0m\u001b[1;33m,\u001b[0m \u001b[0mcopy\u001b[0m\u001b[1;33m=\u001b[0m\u001b[1;32mTrue\u001b[0m\u001b[1;33m,\u001b[0m \u001b[0mallow_dups\u001b[0m\u001b[1;33m=\u001b[0m\u001b[1;32mTrue\u001b[0m\u001b[1;33m\u001b[0m\u001b[1;33m\u001b[0m\u001b[0m\n",
      "\u001b[1;32m~\\anaconda3\\lib\\site-packages\\pandas\\core\\indexing.py\u001b[0m in \u001b[0;36m_get_listlike_indexer\u001b[1;34m(self, key, axis)\u001b[0m\n\u001b[0;32m   1312\u001b[0m             \u001b[0mkeyarr\u001b[0m\u001b[1;33m,\u001b[0m \u001b[0mindexer\u001b[0m\u001b[1;33m,\u001b[0m \u001b[0mnew_indexer\u001b[0m \u001b[1;33m=\u001b[0m \u001b[0max\u001b[0m\u001b[1;33m.\u001b[0m\u001b[0m_reindex_non_unique\u001b[0m\u001b[1;33m(\u001b[0m\u001b[0mkeyarr\u001b[0m\u001b[1;33m)\u001b[0m\u001b[1;33m\u001b[0m\u001b[1;33m\u001b[0m\u001b[0m\n\u001b[0;32m   1313\u001b[0m \u001b[1;33m\u001b[0m\u001b[0m\n\u001b[1;32m-> 1314\u001b[1;33m         \u001b[0mself\u001b[0m\u001b[1;33m.\u001b[0m\u001b[0m_validate_read_indexer\u001b[0m\u001b[1;33m(\u001b[0m\u001b[0mkeyarr\u001b[0m\u001b[1;33m,\u001b[0m \u001b[0mindexer\u001b[0m\u001b[1;33m,\u001b[0m \u001b[0maxis\u001b[0m\u001b[1;33m)\u001b[0m\u001b[1;33m\u001b[0m\u001b[1;33m\u001b[0m\u001b[0m\n\u001b[0m\u001b[0;32m   1315\u001b[0m \u001b[1;33m\u001b[0m\u001b[0m\n\u001b[0;32m   1316\u001b[0m         if needs_i8_conversion(ax.dtype) or isinstance(\n",
      "\u001b[1;32m~\\anaconda3\\lib\\site-packages\\pandas\\core\\indexing.py\u001b[0m in \u001b[0;36m_validate_read_indexer\u001b[1;34m(self, key, indexer, axis)\u001b[0m\n\u001b[0;32m   1375\u001b[0m \u001b[1;33m\u001b[0m\u001b[0m\n\u001b[0;32m   1376\u001b[0m             \u001b[0mnot_found\u001b[0m \u001b[1;33m=\u001b[0m \u001b[0mlist\u001b[0m\u001b[1;33m(\u001b[0m\u001b[0mensure_index\u001b[0m\u001b[1;33m(\u001b[0m\u001b[0mkey\u001b[0m\u001b[1;33m)\u001b[0m\u001b[1;33m[\u001b[0m\u001b[0mmissing_mask\u001b[0m\u001b[1;33m.\u001b[0m\u001b[0mnonzero\u001b[0m\u001b[1;33m(\u001b[0m\u001b[1;33m)\u001b[0m\u001b[1;33m[\u001b[0m\u001b[1;36m0\u001b[0m\u001b[1;33m]\u001b[0m\u001b[1;33m]\u001b[0m\u001b[1;33m.\u001b[0m\u001b[0munique\u001b[0m\u001b[1;33m(\u001b[0m\u001b[1;33m)\u001b[0m\u001b[1;33m)\u001b[0m\u001b[1;33m\u001b[0m\u001b[1;33m\u001b[0m\u001b[0m\n\u001b[1;32m-> 1377\u001b[1;33m             \u001b[1;32mraise\u001b[0m \u001b[0mKeyError\u001b[0m\u001b[1;33m(\u001b[0m\u001b[1;34mf\"{not_found} not in index\"\u001b[0m\u001b[1;33m)\u001b[0m\u001b[1;33m\u001b[0m\u001b[1;33m\u001b[0m\u001b[0m\n\u001b[0m\u001b[0;32m   1378\u001b[0m \u001b[1;33m\u001b[0m\u001b[0m\n\u001b[0;32m   1379\u001b[0m \u001b[1;33m\u001b[0m\u001b[0m\n",
      "\u001b[1;31mKeyError\u001b[0m: '[24706, 3337, 1076, 47956, 20658, 30438, 5325, 63684, 11862, 39917, 35106, 45954, 2036, 73850, 62969, 6777, 48992, 71052, 59076, 58602, 72126, 6158, 26914, 61415, 13778, 33743, 58136, 49995, 32233, 21776, 26345, 66586, 23268, 67408, 60170, 48237, 28583, 73421, 53516, 30967, 42613, 2465, 18533, 41798, 29938, 52088, 1919, 66754, 52206, 65496, 54374, 55870, 29535, 63523, 55980, 63361, 74225, 16827, 23467, 29056, 46917, 65249, 4550, 2535, 45226, 52296, 1049, 25134, 51793, 5845, 55038, 66239, 54603, 14683, 25222, 19470, 47187, 27295, 30291, 64816, 1213, 64802, 49888, 26628, 13885, 4619, 26135, 68069, 36166, 51610, 59329, 57580, 2895, 13357, 7687, 2159, 8811, 21308, 71428, 15297, 8638, 56999, 29073, 45755, 59472, 36128, 18930, 24096, 58281, 30231, 8407, 55136, 3720, 30554, 57669, 52430, 9737, 73183, 28673, 67249, 69863, 42877, 10059, 64636, 27925, 6994, 224, 9493, 43747, 51929, 26700, 8623, 27235, 72324, 52476, 16615, 26953, 13146, 52288, 55017, 38182, 39264, 27554, 75614, 53994, 23229, 47539, 59391, 65650, 65546, 54048, 18212, 42200, 10784, 13183, 11137, 21405, 20422, 8453, 73578, 9194, 71879, 38158, 38759, 43956, 53040, 62843, 55679, 72593, 18729, 64437, 29280, 16189, 53766, 62640, 41115, 47920, 51070, 60956, 8950, 15226, 9827, 60025, 25688, 7107, 45669, 47505, 31534, 59321, 59220, 26292, 34629, 55057, 45762, 38484, 21900, 29070, 2145, 43876, 62011, 21840, 8118, 21182, 17181, 56223, 9263, 63695, 59263, 934, 43916, 29350, 14291, 49355, 72663, 57600, 75249, 57301, 62756, 26813, 44381, 6366, 7730, 67049, 1897, 44382, 66274, 67549, 32907, 5548, 72440, 70490, 45366, 65587, 41133, 1043, 23518, 29383, 54101, 36538, 43699, 60860, 74492, 21200, 43533, 7303, 581, 47620, 72570, 28210, 28359, 56261, 67487, 32737, 57572, 28768, 64045, 52718, 44096, 1140, 38951, 8466, 46042, 16467, 12593, 49296, 65766, 38143, 45292, 59829, 24939, 44879, 32385, 37008, 62905, 6169, 15669, 7701, 23607, 15455, 60387, 49855, 66903, 29201, 20268, 41838, 51743, 5251, 14679, 45001, 33243, 26058, 56343, 62172, 21069, 48957, 50636, 31035, 15370, 8703, 23117, 28017, 13304, 61685, 43295, 32132, 5656, 6834, 67087, 17315, 17313, 61186, 69913, 21228, 43796, 74876, 16248, 54115, 59316, 65278, 61330, 72977, 74935, 46610, 57626, 65493, 52349, 10222, 50514, 72086, 42558, 2715, 55860, 6594, 1048, 70266, 68199, 48077, 50816, 16491, 58852, 45253, 2878, 72827, 9489, 30003, 20300, 31912, 67185, 23705, 43684, 12735, 44091, 41352, 8316, 13109, 36656, 7458, 18830, 14518, 11604, 66479, 51337, 27593, 20710, 47451, 32508, 23259, 1532, 53165, 55953, 25003, 1930, 34215, 60740, 24030, 31218, 68007, 74322, 412, 74487, 53815, 11421, 45128, 43958, 22764, 1882, 64118, 47162, 74204, 57612, 4420, 1242, 43246, 62382, 41326, 2677, 43190, 62302, 43870, 36489, 20462, 28360, 40592, 8232, 46463, 29429, 49005, 27420, 1797, 8097, 45456, 1523, 23618, 15099, 35714, 27058, 55266, 22007, 62395, 22548, 38397, 3897, 53187, 47506, 72961, 63905, 26020, 23859, 32315, 37625, 57085, 65194, 50839, 2002, 23187, 61414, 18220, 5027, 50252, 13094, 65888, 22610, 45627, 59005, 30627, 10572, 44791, 34184, 71812, 73713, 73250, 41005, 18039, 57237, 36977, 72137, 69490, 39208, 54897, 30915, 35842, 41700, 2262, 47497, 58428, 30626, 800, 48546, 64511, 4797, 62564, 59495, 74311, 36652, 21290, 54150, 51319, 62856, 51476, 33778, 54781, 3277, 18425, 5671, 26332, 75138, 11215, 20773, 44335, 14672, 22774, 33902, 27579, 38721, 29790, 73123, 39468, 9643, 40050, 41949, 314, 49913, 50091, 34104, 28846, 29821, 3032, 64657, 15780, 23390, 46271, 25093, 12745, 30714, 2820, 61208, 9175, 53246, 7944, 59743, 7238, 20889, 36632, 50502, 60864, 46635, 15993, 47927, 71285, 973, 60866, 9561, 55531, 23981, 53898, 35679, 75161, 26165, 57646, 73848, 32656, 64164, 70749, 36906, 46685, 10758, 19682, 45817, 26434, 6015, 10159, 53653, 55106, 26307, 68934, 30775, 55862, 31440, 16334, 18545, 45347, 25569, 24179, 37354, 1548, 70931, 60810, 18206, 9294, 14404, 65373, 57849, 68708, 29961, 31325, 9204, 74972, 6729, 62447, 18617, 14678, 34746, 6470, 7397, 39523, 43828, 13523, 20485, 60737, 48586, 50449, 47002, 63779, 46381, 75445, 31538, 47394, 24806, 45579, 7681, 27313, 24779, 67390, 70879, 70814, 23262, 73481, 72538, 1208, 50165, 37430, 33804, 73716, 56306, 68436, 50665, 55338, 70553, 6604, 52855, 6482, 63568, 36531, 55303, 26824, 42086, 35348, 70028, 24093, 3547, 57271, 23779, 23876, 16624, 11463, 14931, 13854, 4143, 16210, 18640, 48261, 19229, 52333, 4263, 18879, 57051, 1373, 27320, 46719, 52195, 252, 16614, 50863, 69100, 57767, 29854, 40611, 41792, 74631, 61466, 45116, 42428, 6752, 33875, 42905, 40589, 40026, 39922, 52945, 19256, 68745, 67661, 12746, 17758, 74787, 70042, 24049, 65981, 7259, 67416, 9371, 2622, 57088, 5352, 31288, 5114, 15771, 54908] not in index'"
     ]
    }
   ],
   "source": [
    "numeric_vars = ['LoanAmount', 'BorrowerRate']\n",
    "categoric_vars = ['ProsperRating_alpha', 'ListingCategory_numeric']\n",
    "samples = np.random.choice(clean_df.shape[0], 2000, replace = False)\n",
    "loan_df_samp = clean_df.loc[samples,:]\n",
    "\n",
    "def boxgrid(x, y, **kwargs):\n",
    "    \"\"\" Quick hack for creating box plots with seaborn's PairGrid. \"\"\"\n",
    "    default_color = sb.color_palette()[0]\n",
    "    sb.boxplot(x, y, color = default_color)\n",
    "    plt.xticks(rotation = 15);\n",
    "\n",
    "plt.figure(figsize = [20, 10])\n",
    "g = sb.PairGrid(data = loan_df_samp, y_vars = numeric_vars, x_vars = categoric_vars,size=5,aspect =1)\n",
    "g.map(boxgrid);\n",
    "plt.show();"
   ]
  },
  {
   "cell_type": "markdown",
   "metadata": {},
   "source": [
    "### Observations\n",
    "Borrowers with low Prosper rating generally receive lower loan amount and higher Borrowrate(Interest on the loan). LoanAmounts borrowed for 'other' and 'auto' categories are generally lower than rest of the categories, the rate is somewhat similar for all the categories."
   ]
  },
  {
   "cell_type": "markdown",
   "metadata": {},
   "source": [
    "### Question\n",
    "\n",
    "Lets explore the relation between LoanAmount and IncomeRange"
   ]
  },
  {
   "cell_type": "markdown",
   "metadata": {},
   "source": [
    "### Visualisation"
   ]
  },
  {
   "cell_type": "code",
   "execution_count": null,
   "metadata": {},
   "outputs": [],
   "source": [
    "clean_df_part = clean_df[(clean_df['StatedMonthlyIncome'] <= 10000) ]\n",
    "\n",
    "\n",
    "plt.figure(figsize = [15, 8])\n",
    "base_color = sb.color_palette()[0]\n",
    "\n",
    "# left plot: violin plot\n",
    "plt.subplot(1, 2, 1)\n",
    "ax1 = sb.violinplot(data = clean_df_part, x = 'IncomeRange', y = 'LoanAmount', color = base_color)\n",
    "plt.xticks(rotation = 15);\n",
    "plt.title('Income Range vs Loan Amount')\n",
    "\n",
    "# right plot: box plot\n",
    "plt.subplot(1, 2, 2)\n",
    "sb.boxplot(data = clean_df_part, x = 'IncomeRange', y = 'LoanAmount', color = base_color)\n",
    "plt.ylim(ax1.get_ylim()) # set y-axis limits to be same as left plot\n",
    "plt.xticks(rotation = 15);\n",
    "plt.title('Income Range vs Loan Amount');"
   ]
  },
  {
   "cell_type": "markdown",
   "metadata": {},
   "source": [
    "### Observations\n",
    "There is a gradual and steady increase in the Loan Amount allotted as the income range increases.From the violinplots we can observe that the for the lowest income range which 1-25k we have huge density of count of Borrowers for the same median Loan Amount while as we go further increasing the income range our data becomes more and more spread out and sparse around the median."
   ]
  },
  {
   "cell_type": "markdown",
   "metadata": {},
   "source": [
    "### Question\n",
    "\n",
    "Lets have a look at the relation between categorical variables"
   ]
  },
  {
   "cell_type": "markdown",
   "metadata": {},
   "source": [
    "### Visualisation"
   ]
  },
  {
   "cell_type": "code",
   "execution_count": null,
   "metadata": {},
   "outputs": [],
   "source": [
    "# Orginal heatmap of the dataset without any alterations, as there were no null values in the categorical variables, \n",
    "# but their instances still got affected later on because of null values in numeric columns\n",
    "plt.figure(figsize = [12, 8])\n",
    "ct_counts = df.groupby(['IsBorrowerHomeowner', 'LoanStatus']).size()\n",
    "ct_counts = ct_counts.reset_index(name = 'count')\n",
    "ct_counts = ct_counts.pivot(index = 'LoanStatus', columns = 'IsBorrowerHomeowner', values = 'count')\n",
    "sb.heatmap(ct_counts, annot = True, fmt = 'd');\n",
    "plt.title('Count of Applicants w.r.t LoanStatus and HomeownerStatus');"
   ]
  },
  {
   "cell_type": "markdown",
   "metadata": {},
   "source": [
    "### Observations\n",
    "\n",
    "I have used the original dataset for this relation check , because originally we had Not Employed as a parameter in the Employment status , which I had to remove for getting a better and more sensible monthly income visualisation. So using the original dataset, keeps the contrast of the relation between having the Borrower as a home owner and LoanStatus (Major difference observed in the Defaulted section for both true and false of Homeowner status). We can observe that the majority of the population lies in the loan status of Current and Completed. "
   ]
  },
  {
   "cell_type": "markdown",
   "metadata": {},
   "source": [
    "### Question\n",
    "\n",
    "Lets Explore the relation between Delinquencies and ProsperRating"
   ]
  },
  {
   "cell_type": "markdown",
   "metadata": {},
   "source": [
    "### Visualisation"
   ]
  },
  {
   "cell_type": "code",
   "execution_count": null,
   "metadata": {},
   "outputs": [],
   "source": [
    "plt.figure(figsize = [12, 8])\n",
    "sb.violinplot(data = clean_df, x = 'ProsperRating_alpha', y = 'DelinquenciesLast7Years', color = base_color);"
   ]
  },
  {
   "cell_type": "markdown",
   "metadata": {},
   "source": [
    "### Observations\n",
    "Delinquencies in past 7 years have a direct relation with the clear visual that AA type Prosper Rating candidate having huge density around the median, where median is 0, as we go further with the types of Prosper Ratings we have minor spreading around the median signifying the increase in the Delinquency number. "
   ]
  },
  {
   "cell_type": "markdown",
   "metadata": {},
   "source": [
    "### Question\n",
    "\n",
    "Lets explore the relation between the variables , 'EmploymentStatus', 'ProsperRating_alpha', 'IncomeRange' one by one."
   ]
  },
  {
   "cell_type": "markdown",
   "metadata": {},
   "source": [
    "### Visualisation"
   ]
  },
  {
   "cell_type": "code",
   "execution_count": null,
   "metadata": {},
   "outputs": [],
   "source": [
    "# since there's only three subplots to create, using the full data should be fine.\n",
    "categoric_vars = ['EmploymentStatus', 'ProsperRating_alpha', 'IncomeRange']\n",
    "\n",
    "plt.figure(figsize = [12, 12])\n",
    "\n",
    "# subplot 1: EmploymentStatus vs IncomeRange\n",
    "plt.subplot(3, 1, 1)\n",
    "sb.countplot(data = clean_df, x = 'EmploymentStatus', hue = 'IncomeRange', palette = 'Reds')\n",
    "plt.xticks(rotation = 15)\n",
    "plt.title('Count of Borrowers')\n",
    "\n",
    "# subplot 2: ProsperRating Alpha vs IncomeRange\n",
    "ax = plt.subplot(3, 1, 2)\n",
    "sb.countplot(data = clean_df, x = 'ProsperRating_alpha', hue = 'IncomeRange', palette = 'Blues')\n",
    "ax.legend(ncol = 2)  #rearranging legend to avoid overlapping\n",
    "plt.xticks(rotation = 15)\n",
    "\n",
    "\n",
    "# subplot 3: EmploymentStatus vs ProsperRating Alpha\n",
    "ax = plt.subplot(3, 1, 3)\n",
    "sb.countplot(data = clean_df, x = 'ProsperRating_alpha', hue = 'EmploymentStatus', palette = 'Greens')\n",
    "ax.legend(loc = 1, ncol = 2) #rearranging legend to avoid overlapping\n",
    "plt.xticks(rotation = 15)\n",
    "\n",
    "\n",
    "plt.show()"
   ]
  },
  {
   "cell_type": "markdown",
   "metadata": {},
   "source": [
    "### Observations\n",
    "\n",
    "First Visualisation: Most of the population comes under the Employed and Fulltime sections with majority having the income between the ranges 25-50k or 50k to 75k with maximum being in the later.\n",
    "Second Visualisation: The distribution was pretty evenly spread out , only for the Type C prosperRating being the maximum by some margin, with a most common incomerange of 50k-75k.\n",
    "Third Visualisation: Majority of the population is employed and with the ProsperRating of Type C closely followed by Type B and Type A. The most common Type for Fulltime employee was Type A. "
   ]
  },
  {
   "cell_type": "markdown",
   "metadata": {},
   "source": [
    "### Talk about some of the relationships you observed in this part of the investigation. How did the feature(s) of interest vary with other features in the dataset?\n",
    "\n",
    "> Most of the Features of interest were related as expected.\n",
    "- There is a gradual and steady increase in the Loan Amount allotted as the income range increases.From the violinplots we can observe that the for the lowest income range which 1-25k we have huge density of count of Borrowers for the same median Loan Amount while as we go further increasing the income range our data becomes more and more spread out and sparse around the median.\n",
    "- Borrowers with low Prosper rating generally receive lower loan amount and higher Borrowrate(Interest on the loan). LoanAmounts borrowed for 'other' and 'auto' categories are generally lower than rest of the categories, the rate is somewhat similar for all the categories.\n",
    "- We can observe that the LoanOriginalAmount and Monthly LoanPayment are highly correlated,borrowerrate and prosper score are highly correlated(negative correlation), borrowerrate and LoanOriginalAmount are (negative correlation).\n",
    "\n",
    "### Did you observe any interesting relationships between the other features (not the main feature(s) of interest)?\n",
    "\n",
    "> Delinquencies had a interesting relationship with the ProsperRating, As you rating decreased the Delinquencies number increased."
   ]
  },
  {
   "cell_type": "markdown",
   "metadata": {},
   "source": [
    "## Multivariate Exploration\n",
    "\n",
    "> Create plots of three or more variables to investigate your data even\n",
    "further. Make sure that your investigations are justified, and follow from\n",
    "your work in the previous sections."
   ]
  },
  {
   "cell_type": "markdown",
   "metadata": {},
   "source": [
    "### Question\n",
    "\n",
    "Lets have a general view of how the ProsperRatings , EmploymentStatus , LoanAmount and StateMonthlyIncome are related."
   ]
  },
  {
   "cell_type": "markdown",
   "metadata": {},
   "source": [
    "### Visualisation"
   ]
  },
  {
   "cell_type": "code",
   "execution_count": null,
   "metadata": {},
   "outputs": [],
   "source": [
    "scattergrid = sb.FacetGrid(data = clean_df_part, col = 'ProsperRating_alpha', row = 'EmploymentStatus', size = 3,\n",
    "                margin_titles = True)\n",
    "scattergrid.map(plt.scatter, 'LoanAmount', 'StatedMonthlyIncome')\n",
    "scattergrid.fig.subplots_adjust()\n",
    "scattergrid.fig.suptitle('EmploymentStatus,ProsperRatings and LoanOriginalAmount by StatedMonthlyIncome',size=30,y=1.02);"
   ]
  },
  {
   "cell_type": "markdown",
   "metadata": {},
   "source": [
    "### Observations\n",
    "\n",
    "We can take a lot of insights from this FacetGrid Scatter plots, such as: huge majority of the population falls under the Employed and FullTime Employed status, in that part majority have a loan amount between 1-20k, some even go as high as 25k. "
   ]
  },
  {
   "cell_type": "markdown",
   "metadata": {},
   "source": [
    "### Question\n",
    "\n",
    "Lets consider the relation between ProsperRating_alpha,BorrowerRate,IsBorrowerHomeowner"
   ]
  },
  {
   "cell_type": "markdown",
   "metadata": {},
   "source": [
    "### Visualisation"
   ]
  },
  {
   "cell_type": "code",
   "execution_count": null,
   "metadata": {},
   "outputs": [],
   "source": [
    "# To identify how the applicants interest rate is affected by ratings\n",
    "plt.figure(figsize = [15, 7])\n",
    "ax = sb.pointplot(data = clean_df_part, x = 'ProsperRating_alpha', y = 'BorrowerRate', hue = 'IsBorrowerHomeowner',\n",
    "                  dodge = 0.6, linestyles = \"--\");\n",
    "plt.title('Borrowers - IsHomeowner across ProsperRating and BorrowerRate ');"
   ]
  },
  {
   "cell_type": "markdown",
   "metadata": {},
   "source": [
    "### Observations\n",
    "\n",
    "It can be observed that the AA Type ProperRating has the least BorrowerRate to pay for their loans, and the BorrowRate keep increasing as we go down the other types, we can also observe that generally the Homeowners have to lesser BorrowerRate as compared to the NonHomeowners"
   ]
  },
  {
   "cell_type": "markdown",
   "metadata": {},
   "source": [
    "### Question\n",
    "\n",
    "Exploring the variables Employment Status , Stated Monthly Income, ProsperRating Alpha relation"
   ]
  },
  {
   "cell_type": "markdown",
   "metadata": {},
   "source": [
    "### Visualisation"
   ]
  },
  {
   "cell_type": "code",
   "execution_count": null,
   "metadata": {},
   "outputs": [],
   "source": [
    "plt.figure(figsize = [10, 7])\n",
    "# taking only employees that are employed in consideration\n",
    "clean_df_employ = clean_df[clean_df['EmploymentStatus'] != 'Not employed']\n",
    "\n",
    "mean_data = clean_df_employ.groupby(['ProsperRating_alpha', 'EmploymentStatus']).mean()['StatedMonthlyIncome']\n",
    "mean_data = mean_data.reset_index(name = 'StatedMonthlyIncome_avg')\n",
    "mean_data = mean_data.pivot(index = 'EmploymentStatus', columns = 'ProsperRating_alpha',\n",
    "                            values = 'StatedMonthlyIncome_avg')\n",
    "sb.heatmap(mean_data, annot = True, fmt = '.3f',\n",
    "           cbar_kws = {'label' : 'mean(StatedMonthlyIncome)'});\n",
    "plt.title('Borrowers - AverageMonthlyIncome across Prosper Rating and Employment Status');"
   ]
  },
  {
   "cell_type": "markdown",
   "metadata": {},
   "source": [
    "### Observations\n",
    "\n",
    "The Highest observed AverageMonthlyIncome was for EmployementStatus Employed, Type AA ProsperRating, while the lowest average income being for Self-Employeed EmployementStatus, Type AA ProsperRating which is 1500. "
   ]
  },
  {
   "cell_type": "markdown",
   "metadata": {},
   "source": [
    "### Question\n",
    "\n",
    "Further exploration into LoanAmount , IncomeRange, ProsperRating Alpha relation"
   ]
  },
  {
   "cell_type": "markdown",
   "metadata": {},
   "source": [
    "### Visualisation"
   ]
  },
  {
   "cell_type": "code",
   "execution_count": null,
   "metadata": {},
   "outputs": [],
   "source": [
    "plt.figure(figsize = [15, 7])\n",
    "\n",
    "ax = sb.barplot(data = clean_df_employ, x = 'IncomeRange', y = 'LoanAmount', hue = 'ProsperRating_alpha')\n",
    "ax.legend(loc = 'upper left', framealpha =1, title = 'ProsperRating_alpha')\n",
    "plt.title('Borrowers- LoanOriginalAmount across Prosper Rating and Income Range');"
   ]
  },
  {
   "cell_type": "markdown",
   "metadata": {},
   "source": [
    "### Observations\n",
    "It can be clearly observed that as the incomerange increases the Original Loan Amount Increases as well, with the least being for 1-25k income range and maximum at 100k+ incomerange, on an average its A, B, C type having the maximum for most of the IncomeRange. The most varying loanamount was for Type AA ProsperRating 1-25k Income range."
   ]
  },
  {
   "cell_type": "markdown",
   "metadata": {},
   "source": [
    "### Question\n",
    "\n",
    "Lets have a look at the relation between EmploymentStatus,StatedMonthlyIncome,ProsperRating_alpha\n"
   ]
  },
  {
   "cell_type": "markdown",
   "metadata": {},
   "source": [
    "### Visualisation"
   ]
  },
  {
   "cell_type": "code",
   "execution_count": null,
   "metadata": {},
   "outputs": [],
   "source": [
    "plt.figure(figsize = [15, 7])\n",
    "ax = sb.pointplot(data = clean_df_employ, x = 'EmploymentStatus', y = 'StatedMonthlyIncome', hue = 'ProsperRating_alpha',\n",
    "                  dodge = 0.3, linestyles = \"\")\n",
    "plt.title('Applicants - Rating across Monthly Income and EmploymentStatus');"
   ]
  },
  {
   "cell_type": "code",
   "execution_count": null,
   "metadata": {},
   "outputs": [],
   "source": [
    "clean_df.query(\"ProsperRating_alpha=='AA' and EmploymentStatus=='Self-employed'\" ).StatedMonthlyIncome"
   ]
  },
  {
   "cell_type": "markdown",
   "metadata": {},
   "source": [
    "### Observations\n",
    "\n",
    "It can be observed that the Employed and FullTime employed members of the population has the highest and the most stable StatedMonthly Income Values, with AA Type ProsperRating having the highest and rest all going down as we move in order of types. The most volatile sector for StatedMonthlyIncome was SelfEmployed, they have the lowest StatedIncome of all the AA Type borrowers, where the values for the other types are varying a lot as well."
   ]
  },
  {
   "cell_type": "markdown",
   "metadata": {},
   "source": [
    "### Talk about some of the relationships you observed in this part of the investigation. Were there features that strengthened each other in terms of looking at your feature(s) of interest?\n",
    "- It can be observed that the AA Type ProperRating has the least BorrowerRate to pay for their loans, and the BorrowRate keep increasing as we go down the other types, we can also observe that generally the Homeowners have to lesser BorrowerRate as compared to the NonHomeowners.\n",
    "- The Highest observed AverageMonthlyIncome was for EmployementStatus Employed, Type AA ProsperRating, while the lowest average income being for Self-Employeed EmployementStatus, Type AA ProsperRating which is 1500. \n",
    "\n",
    "### Were there any interesting or surprising interactions between features?\n",
    "\n",
    "- Yes, It was surprising to see that AA Type Prosperrating self employed individuals had the least statedMonthlyIncome of all, I think this might be because there are not so many individuals that would be fitting the conditions above, or even none as well is a possibility. After further digging, it is apparent that there was only one individual out of the 113k instances that comes under the specific condition I mentioned."
   ]
  },
  {
   "cell_type": "markdown",
   "metadata": {},
   "source": [
    "## Conclusions\n",
    "- Prosper Rating from AA to D have the higher loan amount allotted to them also that have more StatedMonthlyIncome as compared to the rest.\n",
    "- Majority of the Borrowers are from the ProsperRating type B. Making it a point that there could be more chance of a loan being approved for type B ProsperRating Borrowers.\n",
    "- NonHomeowner have to pay more Interest (BorrowerRate) as compared to the homeowners. We can conclude that Homeowners have a higher chance of loan approval. One other observation is that ProsperRating Type HR have to pay the highest interest rates irrespective of their Homeowning status.\n",
    "- EmploymentStatus also plays a huge role in the decision of the Loan Amount, As it was observed that the maximum loan amount allotted was to the type B ProsperRating individuals that were Employed, and had StatedMonthlyIncome between 8000-10000.\n",
    "- Delinquencies in past 7 years have a direct relation with the clear visual that AA type Prosper Rating candidate having huge density around the median, where median is 0, as we go further with the types of Prosper Ratings we have minor spreading around the median signifying the increase in the Delinquency number.\n",
    "\n",
    "\n",
    "I can conclude by saying that EmploymentStatus, ProsperRating, IncomeRange, StatedMonthlyIncome, DelinquenciesLast7Years, HomeownerStatus have direct impact on the loan approval chances of any given individual."
   ]
  },
  {
   "cell_type": "markdown",
   "metadata": {},
   "source": [
    "\n",
    "\n",
    "> At the end of your report, make sure that you export the notebook as an\n",
    "html file from the `File > Download as... > HTML or PDF` menu. Make sure you keep\n",
    "track of where the exported file goes, so you can put it in the same folder\n",
    "as this notebook for project submission. Also, make sure you remove all of\n",
    "the quote-formatted guide notes like this one before you finish your report!\n",
    "\n"
   ]
  },
  {
   "cell_type": "markdown",
   "metadata": {},
   "source": []
  },
  {
   "cell_type": "code",
   "execution_count": null,
   "metadata": {},
   "outputs": [],
   "source": [
    "clean_df.to_csv('clean_data.csv',index=False)"
   ]
  },
  {
   "cell_type": "code",
   "execution_count": null,
   "metadata": {},
   "outputs": [],
   "source": []
  }
 ],
 "metadata": {
  "kernelspec": {
   "display_name": "Python 3 (ipykernel)",
   "language": "python",
   "name": "python3"
  },
  "language_info": {
   "codemirror_mode": {
    "name": "ipython",
    "version": 3
   },
   "file_extension": ".py",
   "mimetype": "text/x-python",
   "name": "python",
   "nbconvert_exporter": "python",
   "pygments_lexer": "ipython3",
   "version": "3.9.7"
  }
 },
 "nbformat": 4,
 "nbformat_minor": 2
}
